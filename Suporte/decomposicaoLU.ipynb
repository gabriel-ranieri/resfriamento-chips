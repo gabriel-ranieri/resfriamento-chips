{
  "nbformat": 4,
  "nbformat_minor": 0,
  "metadata": {
    "colab": {
      "provenance": []
    },
    "kernelspec": {
      "name": "python3",
      "display_name": "Python 3"
    },
    "language_info": {
      "name": "python"
    }
  },
  "cells": [
    {
      "cell_type": "markdown",
      "source": [
        "## Relatório - Decomposição LU para Matrizes Tridiagonais\n"
      ],
      "metadata": {
        "id": "a8xvolGA4SGv"
      }
    },
    {
      "cell_type": "markdown",
      "source": [
        "###Introdução\n",
        "\n",
        "O presente relatório tem como objetivo de demonstrar os cálculos realizados, além de explicitar as análises e os resultados obtidos após a confecção do código. A resolução do problema, por sua vez passará por assuntos abordados nas aulas, como Decomposição LU de matrizes incluindo as matrizes tridiagonais e sistemas tridiagonais cíclicos. "
      ],
      "metadata": {
        "id": "UdJ_CwsS51E8"
      }
    },
    {
      "cell_type": "markdown",
      "source": [
        "### Bibliotecas\n",
        "#####A biblioteca NumPy tem como função agregar ao Python a praticidade da criação e realização de operações com arrays, ou seja, matrizes que podem ser multidimensionais.\n",
        "##### A math possibiltará a inserção de funções matemáticas mais complexas."
      ],
      "metadata": {
        "id": "z6oIEnopfCfl"
      }
    },
    {
      "cell_type": "code",
      "source": [
        "import numpy as np\n",
        "\n",
        "import math"
      ],
      "metadata": {
        "id": "Dyl_EdSCe89V"
      },
      "execution_count": null,
      "outputs": []
    },
    {
      "cell_type": "markdown",
      "source": [
        "### Verificação da Matriz\n",
        "A função definida por \"check_matrix\", recebe a matriz A inserida pelo usuário, a qual deve ser quadrada e sem elemento zero em sua diagonal para a resolução dos sistemas lineares previstos. Obtidos os dados supracitados a função verifica situações nas quais o código não seria capaz de resolver, de forma a validar os dados inseridos pelo usuário. \n",
        "#####Para isso foram dispostos três erros diferentes, o primeiro para impedir que o usuário insira matrizes multidimensionais, o segundo para que sejam aceitas apenas matrizes quadradas, o terceiro para impedir a existência de zeros na diagonal principal. Caso algum dos erros seja detectado será retornada uma mensagem do erro correspondente."
      ],
      "metadata": {
        "id": "Qho3TY4mKWLb"
      }
    },
    {
      "cell_type": "code",
      "source": [
        "def check_matrix(A):    # Procura por características inesperadas da matriz\n",
        "\n",
        "    if len(A.shape)>2:    # Verifica se o array tem mais que 3 dimensões\n",
        "        raise ValueError(\"3D arrays are not supported\")\n",
        "    elif A.shape[0]!= A.shape[1]:   # Verifica se a matriz é quadrada\n",
        "        raise ValueError(\"A is not a square matrix\")\n",
        "    elif  np.min(abs(np.diag(A,0)))==0:   # Identifica se a diagonal principal contém 0\n",
        "        raise ValueError(\"Element 0 not expected on main diagonal\")"
      ],
      "metadata": {
        "id": "zFAeFSb6Kc5t"
      },
      "execution_count": null,
      "outputs": []
    },
    {
      "cell_type": "markdown",
      "source": [
        "### Verificação de Vetores de uma Matriz Tridiagonal\n",
        "##### A função \"check_tridiagonal_vectors\" tem uma função similar a função \"check_matrix\", entretanto voltada para encontrar inconsistências nos vetores. Sendo assim, o primeiro erro que essa função retorna é para o caso dos vetores possuirem dimensões diferentes, o segundo, o terceiro e o quarto é para o caso de haver 0 dentre os elementos dos vetores b, a e c, respectivamente.\n",
        "\n"
      ],
      "metadata": {
        "id": "0o7UvbTaYAnL"
      }
    },
    {
      "cell_type": "code",
      "source": [
        "def check_tridiagonal_vectors(a,b,c):   # Procura por características inesperadas \n",
        "#dos vetores\n",
        "\n",
        "    if a.shape != b.shape != c.shape:   # Verifica se os vetores tem as mesmas dimensões\n",
        "        raise ValueError(\"Vectors have different dimensions\")\n",
        "    elif a.shape[0] < 2:\n",
        "        raise ValueError(\"Vectors too small\")\n",
        "    # Os vetores devem conter apenas números diferentes de zero\n",
        "    elif np.min(abs(b))==0:\n",
        "        raise ValueError(\"Element 0 not expected in b\")\n",
        "        \n",
        "    elif np.min(abs(a[1:]))==0:\n",
        "        raise ValueError(\"Element 0 not expected in a\")\n",
        "        \n",
        "    elif np.min(abs(c[:-1]))==0:\n",
        "        raise ValueError(\"Element 0 not expected in c\")"
      ],
      "metadata": {
        "id": "AXDUnkckYBU_"
      },
      "execution_count": null,
      "outputs": []
    },
    {
      "cell_type": "markdown",
      "source": [
        "###Decomposição LU matrizes\n",
        "#####A função \"decomp_LU\" tem como objetivo retornar as matrizes L (lower) e U (upper), a partir da entrada da matriz A inserida pelo usuário. Feita essa recepção a matriz A é convertida em array para tornar os cálculos mais eficientes, conforme mencionado anteriormente e, além disso são obtidas as dimensões na matriz A, para que seja possível criar as matrizes l e u de zeros de mesma dimensão, então são substituídos todos os zeros da diagonal principal por 1 no caso da matriz l. Além disso, são definidas previamente a primeira linha de u com os mesmos termos da primeira linha de A e os termos da primeira coluna de l são substituidos pelo quociente da primeira coluna de A pelo termo da primeira linha e primeira coluna de u.\n",
        "#####Definidos esses parâmetros e valores iniciais é executado um laço para as dimensões da matriz. Internamente a esse laço é executado o preenchimento dos demais termos que necessitam serem preenchidos nas matrizes l e u. No caso da matriz u para definir um termo na posição i, i, executa-se a diferença do valor presente na matriz A também na posição i, i pela somatória dos produtos das colunas de l com as linhas de u. Além disso, para o preenchimento da matriz l é executado uma linha de código similar, onde cada termo de l é obtido através da diferença entre o termo de mesma posição (i,i) em A pela somatória dos produtos entre as colunas de l com as linhas de u, tendo como valor obtido da linha de l analisada adicionada de 1 em relação a posição i analisada, com esse valor em mãos é realizado o cálculo do quociente pelo valor de U posicionado em i,i.\n",
        "#### Demonstração Decomposição LU\n",
        "##### Como demonstração do processo de decomposição LU, podemos iniciar a partir de uma matriz A, de dimensão, 3x3 genérica:\n",
        "$$\n",
        "A = \\left[\n",
        "\\begin{array}{ccc}\n",
        "x_1 & x_2 & x_3 \\\\\n",
        "x_4 & x_5 & x_6 \\\\\n",
        "x_7 & x_8 & x_9 \\\\\n",
        "\\end{array}\n",
        "\\right]\n",
        "$$\n",
        "##### Com essa matriz em mãos podemos realizar os cálculos da Eliminação de Gauss, para obter as matrizes L e U genéricas:\n",
        "$$\n",
        "A = \\left[\n",
        "\\begin{array}{ccc}\n",
        "x_1 & x_2 & x_3 \\\\\n",
        "x_4-(x_1*\\frac{x_4}{x_1}) & x_5-(x_2*\\frac{x_4}{x_1}) & x_6-(x_3*\\frac{x_4}{x_1}) \\\\\n",
        "x_7-(x_1*\\frac{x_7}{x_1}) & x_8-(x_2*\\frac{x_7}{x_1}) & x_9-(x_3*\\frac{x_7}{x_1}) \\\\\n",
        "\\end{array}\n",
        "\\right]\n",
        "$$\n",
        "Realizando o próximo passo da Eliminação de Gauss, vamos obter:\n",
        "$$\n",
        "A = \\left[\n",
        "\\begin{array}{ccc}\n",
        "a & b & c \\\\\n",
        "d & e & f \\\\\n",
        "g & h & i \\\\\n",
        "\\end{array}\n",
        "\\right]\n",
        "$$\n",
        "Onde:\n",
        "\n",
        "$$a= x_1$$\n",
        "\n",
        "$$b= x_2$$\n",
        "\n",
        "$$c= x_3$$\n",
        "\n",
        "$$d= 0$$\n",
        "\n",
        "$$e= x_5-(x_2*\\frac{x_4}{x_1})$$\n",
        "\n",
        "$$f= x_6-(x_3*\\frac{x_4}{x_1})$$\n",
        "\n",
        "$$g= 0$$\n",
        "\n",
        "$$h= (x_8-(x_2*\\frac{x_7}{x_1}))-((x_5-(x_2*\\frac{x_4}{x_1}))*\\frac{(x_8-(x_2*\\frac{x_7}{x_1}))}{(x_5-(x_2*\\frac{x_4}{x_1}))})$$\n",
        "\n",
        "$$i= (x_9-(x_3*\\frac{x_7}{x_1}))-((x_6-(x_3*\\frac{x_4}{x_1}))*\\frac{(x_9-(x_3*\\frac{x_7}{x_1}))}{(x_6-(x_3*\\frac{x_4}{x_1}))})$$\n",
        "\n",
        "Assim obtemos a matriz U:\n",
        "$$\n",
        "U = \\left[\n",
        "\\begin{array}{ccc}\n",
        "x_1 & x_2 & x_3 \\\\\n",
        "0 & x_5-(x_2*\\frac{x_4}{x_1}) & x_6-(x_3*\\frac{x_4}{x_1}) \\\\\n",
        "0 & 0 & (x_9-(x_3*\\frac{x_7}{x_1}))-((x_6-(x_3*\\frac{x_4}{x_1}))*\\frac{(x_8-(x_2*\\frac{x_7}{x_1}))}{(x_5-(x_2*\\frac{x_4}{x_1}))}) \\\\\n",
        "\\end{array}\n",
        "\\right]\n",
        "$$\n",
        "E também podemos obter a matriz L:\n",
        "$$\n",
        "L = \\left[\n",
        "\\begin{array}{ccc}\n",
        "1 & 0 & 0 \\\\\n",
        "\\frac{x_4}{x_1} & 1 & 0 \\\\\n",
        "\\frac{x_7}{x_1} & \\frac{(x_8-(x_2*\\frac{x7}{x1}))}{(x5-(x_2*\\frac{x_4}{x_1}))} & 1 \\\\\n",
        "\\end{array}\n",
        "\\right]\n",
        "$$\n",
        "##### Sendo assim, podemos demonstrar que: \n",
        "$$A_{ij} =\\sum_{k=1}^{min(i,j)} L_{ik}U_{kj}$$\n",
        "$$A_{1,1} =\\sum_{k=1}^{min(1,1)} L_{1,k}U_{k,1}=x_1$$\n",
        "$$A_{1,2} =\\sum_{k=1}^{min(1,2)} L_{1,k}U_{k,2}=x_2$$\n",
        "$$A_{1,3} =\\sum_{k=1}^{min(1,3)} L_{1,k}U_{k,3}=x_3$$\n",
        "$$A_{2,1} =\\sum_{k=1}^{min(2,1)} L_{2,k}U_{k,1}=x_1*\\frac{x_4}{x_1}=x_4$$\n",
        "$$A_{2,2} =\\sum_{k=1}^{min(2,2)} L_{2,k}U_{k,2}=(x_2*\\frac{x_4}{x_1})+x_5-(x_2*\\frac{x_4}{x_1})=x_5$$\n",
        "$$A_{2,3} =\\sum_{k=1}^{min(2,3)} L_{2,k}U_{k,3}=(x_3*\\frac{x_4}{x_1})+x_6-(x_3*\\frac{x_4}{x_1})=x_6$$\n",
        "$$A_{3,1} =\\sum_{k=1}^{min(3,1)} L_{3,k}U_{k,1}=x_1*\\frac{x_7}{x_1}=x_7$$\n",
        "$$A_{3,2} =\\sum_{k=1}^{min(3,2)} L_{3,k}U_{k,2}=(x_2*\\frac{x_7}{x_1})+(x_5-(x_2*\\frac{x_4}{x_1}))*\\frac{(x_8-(x_2*\\frac{x_7}{x_1}))}{(x_5-(x_2*\\frac{x_4}{x_1}))}=x_8$$\n",
        "$$A_{3,3} =\\sum_{k=1}^{min(3,3)} L_{3,k}U_{k,3}=(x_3*\\frac{x_7}{x_1})+(x_6-(x_3*\\frac{x_4}{x_1}))*\\frac{(x_8-(x_2*\\frac{x_7}{x_1}))}{(x_5-(x_2*\\frac{x_4}{x_1}))}$$\n",
        "$$+(x_9-(x_3*\\frac{x_7}{x_1}))-((x_6-(x_3*\\frac{x_4}{x_1}))*\\frac{(x_8-(x_2*\\frac{x_7}{x_1}))}{(x_5-(x_2*\\frac{x_4}{x_1}))})=x_9$$\n",
        "##### O próximo exercício consiste em desenvolver a matriz U com base nos valores obtidos de A e dos somatórios das matrizes L e U:\n",
        "$$U_{ij}=A_{ij}-\\sum_{k=1}^{i-1} L_{ik}U_{kj}, j=1,...,n$$\n",
        "##### Sabendo que U é uma matriz triangular superior, podemos considerar os demais termos como 0:\n",
        "$$U_{1,1}=A_{1,1}-0=x_1$$\n",
        "$$U_{1,2}=A_{1,2}-0=x_2$$\n",
        "$$U_{1,3}=A_{1,3}-0=x_3$$\n",
        "$$U_{2,2}=A_{2,2}-\\sum_{k=1}^{1} L_{2,k}U_{k,2}=x_5-(x_2*\\frac{x_4}{x_1})$$\n",
        "$$U_{2,3}=A_{2,3}-\\sum_{k=1}^{1} L_{2,k}U_{k,3}=x_6-(x_3*\\frac{x_4}{x_1})$$\n",
        "$$U_{3,3}=A_{3,3}-\\sum_{k=1}^{2} L_{3,k}U_{k,3}=x_9-((x_3*\\frac{x_7}{x_1})+(x_6-(x_3*\\frac{x_4}{x_1}))*\\frac{(x_8-(x_2*\\frac{x_7}{x_1}))}{(x_5-(x_2*\\frac{x_4}{x_1}))})$$\n",
        "$$U_{2,1}=0$$\n",
        "$$U_{3,1}=0$$\n",
        "$$U_{3,2}=0$$\n",
        "##### Determinado a matriz U podemos partir para o cálculo do L:\n",
        "$$L_{ji}=\\frac{(A_{ji}-\\sum_{k=1}^{i-1} L_{jk}U_{ki})}{U_{ii}}, j=i+1,...,n$$\n",
        "##### Tendo em vista a fórmula acima e sabendo que a matriz L é triangular inferior e com diagonal principal igual a 1 podemos iniciar os cálculo dos termos não nulos e diferentes de 1:\n",
        "$$L_{2,1}=\\frac{A_{2,1}}{U_{1,1}}=\\frac{x_4}{x_1}$$\n",
        "$$L_{3,1}=\\frac{A_{3,1}}{U_{1,1}}=\\frac{x_7}{x_1}$$\n",
        "$$L_{3,2}=\\frac{(A_{3,2}-\\sum_{k=1}^{1} L_{3,k}U_{k,2})}{U_{2,2}}=\\frac{x_8-(x_2*\\frac{x_7}{x_1})}{x_5-(x_2*\\frac{x_4}{x_1})}$$\n",
        "$$L_{1,1}=1$$\n",
        "$$L_{2,2}=1$$\n",
        "$$L_{3,3}=1$$\n",
        "$$L_{1,2}=0$$\n",
        "$$L_{1,3}=0$$\n",
        "$$L_{2,3}=0$$\n",
        "##### Desta forma, foi possível realizar a construção do código abaixo, com base no que foi demonstrado acima.\n",
        "\n"
      ],
      "metadata": {
        "id": "DVgM3mKAVNLk"
      }
    },
    {
      "cell_type": "code",
      "source": [
        "def decomp_LU(A):   # Decomposição LU de matrizes\n",
        "    \n",
        "    A = np.array(A)   # Garante que a matriz está no formato array\n",
        "    \n",
        "    check_matrix(A)   # Confere se a matriz possui as propriedades \n",
        "    #requisitadas pela função\n",
        "    \n",
        "    n = A.shape[0]\n",
        "    l = np.zeros((n,n))   # Gera a matriz L preenchida de zeros\n",
        "    u = np.zeros((n,n))   # Gera a matriz U preenchida de zeros\n",
        "    \n",
        "    np.fill_diagonal(l,1)   # Preenche a diagonal principal de L com 1s\n",
        "    u[0,:] = A[0,:]   # Preenche a primeira linha de U com os respectivos valores de A\n",
        "    l[:,0] = A [:,0]/u[0,0]   # Preenche a primeira coluna de L\n",
        "            \n",
        "    for i in range (1,n):   # Preenche as matrizes L e U\n",
        "        if i-1 == 0:\n",
        "            u[i,i:n] = A[i,i:n] - (l[i,0] * u[0,i:n])\n",
        "            l[(i+1):n,i] = (A[(i+1):n,i] - (l[(i+1):n,0] * u[0,i]))/u[i,i]\n",
        "                  \n",
        "        else:\n",
        "          \n",
        "            u[i,i:n] = A[i,i:n] - (l[i,0:(i)] @ u[0:(i),i:n])\n",
        "      \n",
        "            l[(i+1):n,i] = (A[(i+1):n,i] - (l[(i+1):n,0:(i)] @ u[0:(i),i]))/u[i,i]\n",
        "      \n",
        "    return l, u"
      ],
      "metadata": {
        "id": "jo12-j7YVOCS"
      },
      "execution_count": null,
      "outputs": []
    },
    {
      "cell_type": "markdown",
      "source": [
        "### Resolução de Sistema Linear por Decomposição LU\n",
        "##### A função \"sys_LU\" tem como objeto resolver o sistema linear através da decomposição LU, realizada na função anterior, isso acontece pois a eficiência em realizar operações com duas matrizes triangulares é maior do que quando realizar as operações diretamente com a matriz \"A\" fornecida pelo usuário. Desta forma, a resolução retornará a matriz x.\n",
        "##### No desenvolvimento desse processo, é feita inicialmente a conversão das matrizes \"A\" e \"D\" fornecida spelo usuário para um array cada, de forma a melhorar a eficiência das operações, conforme já mencionado anterioremente. Após essa etapa, são verificadas as duas matrizes, em seguida são coletadas as dimensões da matriz \"D\" e é feita a decomposição LU da matriz \"A\" utilizando a função \"decomp_LU\", posteriormente é criado um array vazio, chamado de \"x\", cuja forma e o tipo de item são definidos previamente.\n",
        "##### Feito isso, é iniciado o preenchimento do vetor x, onde o primeiro termo é exatamente igual ao primeiro termo da matriz \"D\", então são executados dois laços, o primeiro obtendo os valores de x a partir do resultado da diferença entre o item correspondente (i) da matriz D, pelo produto da matriz L pela matriz x até o item i e o último termo de x é definido em um primeiro momento como o quociente de x pelo item de mesma posição em relação à linha e coluna de U. \n",
        "##### Em seguida, é realizado o segundo laço onde cada termo de x é definido pela diferença do valor inicialmente presente em x, na posição i, pelo produto da matriz U (linha i e coluna subsequente de i) com o array x (item na posição seguinte de i), esse resultado é então posto como o dividendo da matriz U que por sua vez é posicionada como divisor. Então retorna-se o array x."
      ],
      "metadata": {
        "id": "JDb6TTQwaJ_k"
      }
    },
    {
      "cell_type": "code",
      "source": [
        "def sys_LU(A,D):    # Resolução de sistemas lineares com decomposição LU\n",
        "    \n",
        "    A = np.array(A)   # Garante que a matriz está no formato array\n",
        "    D=np.array(D)   # Garante que o vetor está no formato array\n",
        "    \n",
        "    check_matrix(A)   # Confere se a matriz possui as propriedades requisitadas \n",
        "    #pela função\n",
        "    if D.shape != (A.shape[0],1):   # Verifica as dimensões de D\n",
        "        raise ValueError(\"Vector D has the wrong dimensions\")\n",
        "        \n",
        "    n1 = D.shape[0]\n",
        "    \n",
        "    (L,U) = decomp_LU(A)    # Faz a decomposição LU de A\n",
        "    x = np.empty((n1,1))    # Gera a matriz solução X\n",
        "    \n",
        "    # L @ Y = D\n",
        "    x[0] = D[0]   # y1 = d1\n",
        "    for i in range(1,n1):   # Preenche a matriz X com Y\n",
        "        x[i]= D[i] - L[i,:i] @ x[:i]   # Y\n",
        "        \n",
        "    # U @ X = Y\n",
        "    x[n1-1]= x[n1-1]/U[n1-1,n1-1]   # xn = yn / Un,n\n",
        "    for i in range(n1-2,-1,-1):   # Calcula X a partir dos valores de Y armazenados\n",
        "        x[i] = (x[i] - U[i,i+1:] @ x[i+1:])/U[i,i]    # X\n",
        "    \n",
        "    return x"
      ],
      "metadata": {
        "id": "LI9MGzQBaKnt"
      },
      "execution_count": null,
      "outputs": []
    },
    {
      "cell_type": "markdown",
      "source": [
        "###Classificação de Matrizes\n",
        "\n",
        "A função denominada por \"is_tridiagonal\" recebe a matriz \"A\" inserida pelo usuário, forma um array que torna mais eficiente a execução de operação, consumindo menos memória do que uma lista equivalente. Além disso, são obtidas as dimensões do array para favorecer a realização das operações.\n",
        "#####Obtidos os parâmetros, a etapa seguinte consiste em analisar a matriz, caso ela seja de dimensão menor do que três, já é possível definir que ela não será tridiagonal, pois esse tipo de matriz exige o preenchimento da diagonal principal e das diagonais secundárias, retornando False. \n",
        "#####Sendo assim, caso o tamanho da matriz seja superior a 3 é executado um laço que analisa os valores das diagonais secundárias acima e abaixo da principal, encontrando o produto de todos os elementos de cada diagonal e verificando se o produto é zero, o que por sua vez indicaria que há um elemento zero nessas diagonais. Como matrizes tridiagonais não possuem zeros nessas diagonais, a função retorna False caso encontre um.\n",
        "##### Além disso, todas as outras diagonais, com exceção das estremidades no caso de sistemas cíclicos, devem ser preenchidas por zero. Portanto, a função busca os valores máximo e mínimo em cada uma dessas diagonais e, se ambos valores forem diferentes de zero, retorna False.\n",
        "#####Por fim, caso a matriz não se encaixe em nenhuma das análises, será possível defini-lá como uma matriz tridiagonal, retornando True."
      ],
      "metadata": {
        "id": "EnpzxfhNPGFP"
      }
    },
    {
      "cell_type": "code",
      "source": [
        "def is_tridiagonal(A):    # Verifica se uma matriz é tridiagonal\n",
        "  \n",
        "    A = np.array(A)   # Garante que a matriz está no formato array\n",
        "\n",
        "    check_matrix(A)   # Confere se a matriz possui as propriedades requisitadas \n",
        "    #pela função\n",
        "\n",
        "    n = A.shape[0]\n",
        "    \n",
        "    if n<3:   #  Verifica se a matriz é grande o suficiente\n",
        "        return False\n",
        "    \n",
        "    for i in range (1,n-1):   \n",
        "        if i == 1:    # Busca 0 nas diagonais secundárias acima e abaixo da principal\n",
        "            if np.min(abs(np.diag(A,-i)))==0 or np.min(abs(np.diag(A,i)))==0:\n",
        "                return False\n",
        "            \n",
        "        else:   # Busca números diferentes de zeros nas outras diagonais, \n",
        "        #desconsiderando as extremidades\n",
        "            if np.min(abs(np.diag(A,-i)))!=0 or np.min(abs(np.diag(A,i)))!=0:\n",
        "                return False\n",
        "            \n",
        "    return True"
      ],
      "metadata": {
        "id": "3BWIAgQaPMY8"
      },
      "execution_count": null,
      "outputs": []
    },
    {
      "cell_type": "markdown",
      "source": [
        "###Transformação de uma Matriz Tridiagonal em Três Vetores\n",
        "#####A função \"tridiagonal_matriz_to_vectors\" recebe como entrada a matriz \"A\" e visando aumentar a eficiência da realização do código a matriz será simplificada em três vetores, de forma a minimizar a alocação de memória para os zeros antes presentes na matriz \"A\".\n",
        "#####Recebida a matriz de entrada, é realizada a transformação para array, de forma a também aumentar a eficiência das operações, posteriormente é chamada a função \"check_matrix\" já explicada anteriormente. Em seguida, com o resultado obtido é verificada se a matriz é tridiagonal, em caso negativo é emitida uma mensagem de erro.\n",
        "#####No caso da matriz ser tridiagonal, são obtidos inicialmente as dimensões da matriz de entrada e então são criados três vetores, cada um correspondente à matriz principal e à cada uma das matrizes secundárias. Além disso, o último elemento do vetor \"a\" e o primeiro elemento do vetor \"c\" são trocados por 0."
      ],
      "metadata": {
        "id": "LUPQ0Zj08yT1"
      }
    },
    {
      "cell_type": "code",
      "source": [
        "def tridiagonal_matrix_to_vectors(A):   # Transforma uma matriz tridiagonal em 3 vetores\n",
        "    \n",
        "    A = np.array(A)   # Garante que a matriz está no formato array\n",
        "    \n",
        "    check_matrix(A)   # Confere se a matriz possui as propriedades requisitadas \n",
        "    #pela função\n",
        "    \n",
        "    if  is_tridiagonal(A) == False:   # Verifica se a matriz é tridiagonal\n",
        "        raise ValueError('Input must be a tridiagonal matrix')\n",
        "        \n",
        "    else:\n",
        "        \n",
        "        n = A.shape[0]\n",
        "    \n",
        "        a = np.diag(A,-1)   # cria o vetor 'a' contendo a diagonal abaixo da principal de A\n",
        "        # Adiciona a extremidade superior direita no início do vetor\n",
        "        a = np.concatenate((A[0,n-1].reshape(1),a))\n",
        "    \n",
        "        b = np.diag(A,0)     # cria o vetor 'b' contendo a diagonal principal de A\n",
        "    \n",
        "        c = np.diag(A,1)     # cria o vetor 'c' contendo a diagonal acima da \n",
        "        #principal de A\n",
        "        # Adiciona a extremidade inferior esquerda no final do vetor\n",
        "        c = np.concatenate((c, A[n-1,0].reshape(1)))\n",
        "    \n",
        "        return a, b, c"
      ],
      "metadata": {
        "id": "6qUnf0NceM-2"
      },
      "execution_count": null,
      "outputs": []
    },
    {
      "cell_type": "markdown",
      "source": [
        "### Decomposição LU de Matrizes Tridiagonais a partir de Vetores\n",
        "\n",
        "##### Similar ao que foi realizado na função \"decomp_LU\", a presente função \"tridiagonal_LU\" recebe os vetores a,b e c da função \"tridiagonal_matriz_to_vectors\", com esses valores em mãos é possível transformar os vetores em arrays e verificar se eles atendem aos requisitos para o código rodar na função \"check_tridiagonal_vectors\". Além disso, são obtidas as dimensões do vetor a para então criar dois novos arrays, l e u utilizando as dimensões do vetor a como base para as duas dimensões.\n",
        "##### A próxima etapa é iniciar o preenchimento dos novos arrays, em um primeiro momento é preenchida a diagonal principal de l com 1. Feito isso, o primeiro termo (primeira linha e primeira coluna) de u é preenchido com o valor do primeiro elemento de b, e o termo da primeira linha e segunda coluna de u e preenchido com o primeiro elemento de c.\n",
        "##### Em seguida, é realizado um laço de preenchimento dos demais valores de u e l. Nesse processo, é inicialmente definido os termos da linha de u analisada e da coluna subsequente (u[i,i+1]), atribuindo o valor do termo c analisado (c[i]). Feito isso, é possível atribuir valores para o array l, partindo da definição do termo da linha analisada com a coluna antecedente (l[i,i-1]), esse termo é definido pelo quociente do termo analisado de a (a[i]) pelo termo antecedente ao analisado de u, tanto em linha como em coluna (u[i-1,i-1]). Feitas as duas primeiras etapas do laço, a próxima consiste em atualizar os termos de u através da diferença entre o termo analisado no vetor b pelo produto do array l na linha analisada e coluna antecedente (l[i,i-1]) pelo item antecedente ao analisado no vetor c (c[i-1]).\n",
        "##### Por fim, já externamente ao laço é definido o termo de l da última linha e penúltima coluna através do quociente do último termo do vetor a pelo penúltimo item (em linha e coluna) do array u. Além disso, também é calculado o último termo do array u obtido através da diferença do termo em posição correspondente de b e produto do termo de l calculado na etapa anterior a essa pelo penúltimo item do vetor c. Retornando após estes cálculos as matrizes l e u.\n",
        "#### Demonstração da Decomposição LU para Matrizes Tridiagonais\n",
        "##### Partindo dos três vetores, descritos anteriormente, que inicialmente descrevem a matriz A inserida pelo usuário, podemos demonstrar a construção dos vetores correspondentes as matrizes L e U partindo de uma matriz tridiagonal genérica 3x3:\n",
        "$$\n",
        "A = \\left[\n",
        "\\begin{array}{ccc}\n",
        "x_1 & x_2 & 0 \\\\\n",
        "x_4 & x_5 & x_6 \\\\\n",
        "0 & x_8 & x_9 \\\\\n",
        "\\end{array}\n",
        "\\right]\n",
        "$$\n",
        "##### Para efeitos de verificação dos resultados que serão obtidos a seguir, podemos inicialmente obter as matrizes U e L por Eliminação de Gauss:\n",
        "$$\n",
        "U = \\left[\n",
        "\\begin{array}{ccc}\n",
        "x_1 & x_2 & 0 \\\\\n",
        "0 & x_5-(x_2*\\frac{x_4}{x_1}) & x_6 \\\\\n",
        "0 & 0 & x_9-(x_6*\\frac{x_8}{x_5-(x_2*\\frac{x_4}{x_1})}) \\\\\n",
        "\\end{array}\n",
        "\\right]\n",
        "$$\n",
        "$$\n",
        "L = \\left[\n",
        "\\begin{array}{ccc}\n",
        "1 & 0 & 0 \\\\\n",
        "\\frac{x_4}{x_1} & 1 & 0 \\\\\n",
        "0 & \\frac{x_8}{x_5-(x_2*\\frac{x_4}{x_1})} & 1 \\\\\n",
        "\\end{array}\n",
        "\\right]\n",
        "$$\n",
        "##### Desta forma, podemos iniciar a construção dos vetores, com base nos vetores já disponíveis da matriz genérica A:\n",
        "$$a=(0,x_4,x_8)$$\n",
        "$$b=(x_1,x_5,x_9)$$\n",
        "$$c=(x_2,x_6,0)$$\n",
        "##### No desenvolvimento dos vetores correspondentes às matrizes L e U, usaremos as seguintes fórmulas disponibilizadas no enunciado desse exercício:\n",
        "$$u_1=b_1$$\n",
        "$$u_i=U_{ii}$$\n",
        "$$l_{i+1}=L_{i+1,i}$$\n",
        "##### Para i=2,...,n:\n",
        "$$l_i=\\frac{a_i}{u_{i-1}}$$\n",
        "$$u_{i}=b_i-(l_i*c_{i-1})$$\n",
        "##### Com base nessas fórmulas, e considerando se trata de uma matriz tridiagonal $$l_1=0$$podemos realizar os cálculos na seguinte ordem, para obter os vetores:\n",
        "$$u_1=b_1=x_1$$\n",
        "$$l_2=\\frac{a_2}{u_{1}}=\\frac{x_4}{x_{1}}$$\n",
        "$$u_2=b_2-(l_2*c_1)=x_5-(x_2*\\frac{x_4}{x_1})$$\n",
        "$$l_3=\\frac{a_3}{u_2}=\\frac{x_8}{x_5-(x_2*\\frac{x_4}{x_1})}$$\n",
        "$$u_3=b_3-(l_3*c_2)=x_9-(x_6*\\frac{x_8}{x_5-(x_2*\\frac{x_4}{x_1})})$$\n",
        "##### Formando os vetores:\n",
        "$$l=(0,\\frac{x_4}{x_{1}},\\frac{x_8}{x_5-(x_2*\\frac{x_4}{x_1})})$$\n",
        "$$u=(x_1,x_5-(x_2*\\frac{x_4}{x_1}),x_9-(x_6*\\frac{x_8}{x_5-(x_2*\\frac{x_4}{x_1})}))$$\n",
        "##### Utilizando essa mesma linha de raciocínio, foi desenvolvido o código a seguir."
      ],
      "metadata": {
        "id": "lzpTA05CefIy"
      }
    },
    {
      "cell_type": "code",
      "source": [
        "def tridiagonal_LU(a,b,c):    # Decomposição LU para matrizes tridiagonais\n",
        "\n",
        "    a = np.array(a)   # Garante que o vetor está no formato array\n",
        "    b = np.array(b)   # Garante que o vetor está no formato array\n",
        "    c = np.array(c)   # Garante que o vetor está no formato array\n",
        "    \n",
        "    # Confere se os vetores possuem as propriedades requisitadas pela função\n",
        "    check_tridiagonal_vectors(a,b,c)     \n",
        "    \n",
        "    n = a.shape[0]\n",
        "    l = np.zeros((n,n))   # Gera a matriz L preenchida de zeros\n",
        "    u = np.zeros((n,n))   # Gera a matriz U preenchida de zeros\n",
        "    \n",
        "    np.fill_diagonal(l,1)   # Preenche a diagonal principal de L com 1s\n",
        "    u[0,0] = b[0]   # U1,1 = b1\n",
        "    u[0,1] = c[0]   # U1,2 = c1\n",
        "    \n",
        "    for i in range(1,n-1):    # Preenche as matrizes L e U\n",
        "        u[i,i+1] = c[i] \n",
        "        \n",
        "        l[i,i-1] = a[i]/u[i-1,i-1]\n",
        "        \n",
        "        u[i,i] = b[i] - l[i,i-1]*c[i-1]\n",
        "        \n",
        "    l[n-1,n-2] = a[n-1]/u[n-2,n-2]\n",
        "    \n",
        "    u[n-1,n-1] = b[n-1] - l[n-1,n-2]*c[n-2]\n",
        "    \n",
        "    return l, u"
      ],
      "metadata": {
        "id": "Wikt5LgPet3n"
      },
      "execution_count": null,
      "outputs": []
    },
    {
      "cell_type": "markdown",
      "source": [
        "### Resolução de Sistemas Lineares para Matrizes Tridiagonais\n",
        "##### Similar ao que é realizado na função \"sys_LU\", a função aqui descrita, \"sys_tridiagonal\" inicia suas operações recebendo os três vetores, oriundos da função \"tridiagonal_matriz_to_vectors\", e a lista D inserida pelo usuário. Feito isso é chamada a função \"tridiagonal_LU\", que retorna os valores de L e U para serem utilizados na resolução. Além disso, são convertidos c e D em arrays de forma a favorecer a eficiência das operações, conforme já mencionado anteriormente. Ainda nessa etapa são obtidas as dimensões de c e guardada na variável n, posteriormente é criada um array de zeros, chamado de x, onde é pré-determinado o shape e o type do vetor.\n",
        "##### Realizadas essas etapas preliminares inicia-se o preenchimento do vetor x, seu primeiro termo é inicialmente substituído pelo primeiro termo do array D. A próxima etapa consiste na realização de dois laços que serão responsáveis por preencher o vetor x, no primeiro é executada a diferença do elemento analisado no vetor D pelo produto do elemento analisado em L de mesma linha analisada, mas coluna antecedente (L[i, i-1]) com o elemento antecedente do vetor x (x[i-1]), posteriormente a essa etapa é determinado externamente ao laço o último elemento de x, obtido pelo valor já atribuído a ele dividido pelo último elemento de U, tanto em linha quanto em coluna. Feito isso, é realizada a execução do último laço dessa função, responsável por atualizar os valores do vetor x, onde o valor obtido é o quociente da diferença do elemento de x já calculado pelo produto pelo elemento de c de mesma posição pelo elemento subsequente de x (x[i+1]), dividido pelo elemento de U de mesma posição do analisado (U[i,i]). Retornando após a realização desses cálculos o vetor x."
      ],
      "metadata": {
        "id": "VSm7aNr0fQ10"
      }
    },
    {
      "cell_type": "code",
      "source": [
        "def sys_tridiagonal(a,b,c,D):   # Resolução de sistemas lineares para matrizes \n",
        "                                #tridiagonais\n",
        "                                # por decomposição LU\n",
        "    \n",
        "    (L,U) = tridiagonal_LU(a,b,c)  #  Decomposição LU\n",
        "    c = np.array(c)   # Garante que o vetor está no formato array\n",
        "    D = np.array(D)   # Garante que o vetor está no formato array\n",
        "    \n",
        "    if D.shape != (b.shape[0],1):   # Verifica as dimensões de D\n",
        "        raise ValueError(\"Vector D has the wrong dimensions\")\n",
        "        \n",
        "    n = c.shape[0]\n",
        "    \n",
        "    x = np.zeros((n,1))   # Gera a matriz solução X\n",
        "    \n",
        "    # L @ Y = D\n",
        "    x[0] = D[0]   # y1 = d1\n",
        "    for i in range(1,n): # Preenche a matriz X com Y\n",
        "        x[i] = D[i] - L[i,i-1]*x[i-1]   # Y\n",
        "            \n",
        "    # U @ X = Y\n",
        "    x[n-1]= x[n-1]/U[n-1,n-1]   # xn = yn / Un,n\n",
        "    for i in range(n-2, -1,-1):   # Calcula X a partir dos valores de Y armazenados\n",
        "        x[i]= (x[i]-c[i]*x[i+1])/U[i,i]   # X\n",
        "        \n",
        "    return x"
      ],
      "metadata": {
        "id": "QcS8eyFogN9t"
      },
      "execution_count": null,
      "outputs": []
    },
    {
      "cell_type": "markdown",
      "source": [
        "### Resolução de Sistemas Tridiagonais Cíclicos\n",
        "\n",
        "##### Assim como foi realizado na função anteriormente descrita, \"sys_tridiagonal\", a presente função \"sys_tridiagonal_cyclic\" é responsável por realizar a resolução de sistemas tridiagonais, mas dessa vez exclusivamente os sistemas cíclicos. Para que isso seja realizado, a função \"sys_tridiagonal_cyclic\" recebe os vetores a, b, c, vindos da função \"tridiagonal_matriz_to_vectors\", além desses vetores também é obtida a lista D inserida pelo usuário. A primeira etapa realizada nessa função é converter todas as listas para arrays de forma a aumentar a eficiência dos cálculos, feito isso é feita a verificação dos vetores, de forma a checar se eles atendem aos critérios para a realização do cálculo, ainda antes de iniciar a resolução em si, são obtidas as dimensões de a para que seja possível criar dois vetores, um deles de mesmo tamanho e dimensão de a, chamado de x, e outro uma unidade menor do que a, mas ainda de mesma dimensão, chamado de v.\n",
        "##### Realizadas as etapas preliminares inicia-se o preenchimento dos vetores, nesse primeiro momento são preenchidas duas posições de v, a primeira delas é a inicial que é preenchida com o mesmo elemento inicial do vetor a, além disso é preenchida a última posição de v com a penúltima posição do vetor c. Feito isso, são obtidos os resultados da decomposição LU dos vetores oriundos da matriz tridiagonal cíclica através da função \"tridiagonal_LU\". Após a realização desses cálculos é chamada a função de resolução de matrizes tridiagonais não cíclicas, \"sys_tridiagonal\", diferindo entre elas apenas o último termo recebido, que em um primeiro momento recebe o array de D, inserido pelo usuário e em um segundo momento recebe o vetor v, criado posteriormente no lugar do vetor mencionado do primeiro momento.\n",
        "##### Com os dados obtidos das funções externas em mãos é possível realizar a determinação do último elemento de x, a partir do último elemento de D subtraído do produto do último elemento de c, pelo primeiro elemento de y, também subtraídos do produto entre o último elemento de a, com o penúltimo elemento de y, o resultado dos cálculos realizados até agora é dividido pelo último elemento de b, subtraído do produto do último elemento de c pelo primeiro elemento do vetor c, subtraído pelo produto do último elemento do vetor a pelo último elemento de z. Realizada essa determinação é executado um laço para preencher os demais elementos de x, nesse cálculo é feita a diferença do elemento de y correspondente ao a ser preenchido de x pelo produto do último elemento de x pelo elemento correspondente do x a ser cálculo em z, esse resultado é executado para todas as posições de x, exceto a última, já calculada anteriormente, obtendo o vetor x como resultado da função."
      ],
      "metadata": {
        "id": "ZUCJNBcjgTrv"
      }
    },
    {
      "cell_type": "code",
      "source": [
        "def sys_tridiagonal_cyclic(a,b,c,D):    # Resolução de sistemas tridiagonais \n",
        "                                        # cíclicos por decomposição LU\n",
        "\n",
        "    # Garante que o vetor está no formato array\n",
        "    a = np.array(a)   \n",
        "    b = np.array(b)\n",
        "    c = np.array(c)\n",
        "    D = np.array(D)\n",
        "    \n",
        "    # Confere se os vetores possuem as propriedades requisitadas pela função\n",
        "    check_tridiagonal_vectors(a,b,c)\n",
        "    \n",
        "    if D.shape != (b.shape[0],1):   # Verifica as dimensões de D\n",
        "        raise ValueError(\"Vector D has the wrong dimensions\")\n",
        "    \n",
        "    n = a.shape[0]\n",
        "    \n",
        "    x = np.zeros((n,1))   # Gera a matriz solução X\n",
        "    \n",
        "    # Gera o vetor v = (a1, 0, 0, 0, ..., cn-1)\n",
        "    v = np.zeros((n-1,1))   \n",
        "    v[0] = a[0]\n",
        "    v[n-2] = c[n-2]\n",
        "       \n",
        "    # T @ Y = D[:n1]\n",
        "    y = sys_tridiagonal(a[:-1],b[:-1],c[:-1],D[:-1])\n",
        "       \n",
        "    # T @ Z = v\n",
        "    z = sys_tridiagonal(a[:-1],b[:-1],c[:-1],v)\n",
        "      \n",
        "    # Cálculo do último termo de X\n",
        "    x[n-1] = (D[n-1]-(c[n-1]*y[0])-(a[n-1]*y[n-2]))/(b[n-1]-(c[n-1]*z[0])-(a[n-1]*z[n-2]))\n",
        "       \n",
        "    for i in range(n-1):    # Cálculo dos valores de X restantes\n",
        "        x[i] = y[i] - ( x[n-1] * z[i])\n",
        "           \n",
        "    return x"
      ],
      "metadata": {
        "id": "c_UIu6jTgbZc"
      },
      "execution_count": null,
      "outputs": []
    },
    {
      "cell_type": "markdown",
      "source": [
        "### Criação de Vetores a partir de Funções para Testes\n",
        "##### Mude as funções indicadas para alterar os coeficientes da Matriz A (atenção ao último termo dos vetores).\n",
        "##### No desenvolvimento dessa função, \"tridiagonal_vectors_from_functions\" são criados inicialmente 4 vetores vazios, com a dimensão baseada no parâmetro \"n\" recebido pela função, e em seguida são calculados os termos de cada vetor partindo do que foi previamente apresentado na proposta do exercício.\n",
        "##### Seguem as funções aplicadas no laço:\n",
        "$$a_i = \\frac{2i-1}{4i}, 1\\leq i\\leq n-1, a_n=\\frac {2n-1}{2n}$$\n",
        "$$c_i = 1-a_i, 1\\leq i\\leq n$$\n",
        "$$b_i = 2, 1\\leq i\\leq n$$\n",
        "$$d_i = \\cos{\\frac {2\\pi i^2}{n^2}},1\\leq i\\leq n$$\n",
        "##### As funções acima são aplicadas no código apresentado abaixo, mas no fim da função são feitas as devidas alterações no vetor não comportadas no laço, ou seja, é realizado o preenchimento dos últimos termos dos vetores a, b e c.\n"
      ],
      "metadata": {
        "id": "RtZQgtP4yo3N"
      }
    },
    {
      "cell_type": "code",
      "source": [
        "def tridiagonal_vectors_from_functions(n):    # Cria 4 vetores a partir de funções\n",
        "                                              # para sistemas tridiagonais cíclicos\n",
        "    \n",
        "    # Cria os vetores vazios\n",
        "    a = np.empty((n,1))\n",
        "    b = np.empty((n,1))\n",
        "    c = np.empty((n,1))\n",
        "    \n",
        "    d = np.empty((n,1))\n",
        "    \n",
        "    for i in range(n):\n",
        "        \n",
        "        t = (2 * (i+1) -1)/(4*(i+1))    # Função dos coeficientes do vetor 'a'\n",
        "        a[i] = t\n",
        "        \n",
        "        t = 1 - t   # Função dos coeficientes do vetor 'c'\n",
        "        c[i] = t\n",
        "        \n",
        "        t = 2   # Função dos coeficientes do vetor 'b'\n",
        "        b[i] = t   \n",
        "        \n",
        "        t = math.cos(2*math.pi*((i+1)**2)/(n**2))   # Função dos coeficientes do vetor 'd'\n",
        "        d[i] = t\n",
        "    \n",
        "    # Últimos termos dos vetores quando calculados de maneira diferente\n",
        "    a[n-1] = (2 * n - 1)/(2 * n)\n",
        "    c[n-1] = 1 - a[n-1]\n",
        "    \n",
        "    return a, b, c, d"
      ],
      "metadata": {
        "id": "9P7YEeu1ypcp"
      },
      "execution_count": null,
      "outputs": []
    },
    {
      "cell_type": "markdown",
      "source": [
        "### Resolução de um Sistema Linear tridiagonal Cíclico Ax = D\n",
        "##### Cuja matriz A é dividida em 3 vetores, para aumentar a eficiência dos cálculos eliminando a presença dos zeros presentes na matriz chamada inicialmente de A:\n",
        "$$a=[0.25,\\space 0.375,\\space 0.41666667,\\space 0.4375,\\space 0.45,\\space 0.45833333, \\space 0.46428571,\\space 0.46875,$$\n",
        "$$\\space 0.47222222, \\space 0.475, \\space 0.47727273,\\space 0.47916667, \\space 0.48076923, \\space 0.48214286,$$\n",
        "$$\\space 0.48333333,\\space 0.484375, \\space 0.48529412, \\space 0.48611111, \\space 0.48684211, \\space 0.975]$$\n",
        "$$b=[2,\\space 2,\\space 2,\\space 2,\\space 2,\\space 2, \\space 2,\\space 2, \\space 2, \\space 2, \\space 2,\\space 2, \\space 2, \\space 2, \\space 2,\\space 2, \\space 2, \\space 2, \\space 2, \\space 2]$$\n",
        "$$c=[0.75,\\space 0.625,\\space 0.58333333,\\space 0.5625,\\space 0.55,\\space 0.54166667, \\space 0.53571429,\\space 0.53125,$$\n",
        "$$\\space 0.52777778, \\space 0.525, \\space 0.52272727,\\space 0.52083333, \\space 0.51923077, \\space 0.51785714,$$\n",
        "$$\\space 0.51666667,\\space 0.515625, \\space 0.51470588, \\space 0.51388889, \\space 0.51315789, \\space 0.025]$$\n",
        "##### Além dos vetores descritos anteriormente, oriundos da matriz A, também será inserido o vetor D de variáveis independentes do sistema linear:\n",
        "$$d=[9.99876632e-01, \\space 9.98026728e-01, \\space 9.90023658e-01, \\space 9.68583161e-01,$$\n",
        "$$9.23879533e-01, \\space 8.44327926e-01, \\space 7.18126298e-01, \\space 5.35826795e-01,$$\n",
        "$$2.94040325e-01, \\space 6.12323400e-17, \\space -3.23917418e-01,$$\n",
        "$$\\space -6.37423990e-01, \\space-8.83765630e-01, \\space -9.98026728e-01, $$\n",
        "$$\\space -9.23879533e-01, \\space -6.37423990e-01,\\space -1.71929100e-01, $$\n",
        "$$\\space 3.68124553e-01, \\space 8.18149717e-01, \\space 9.75000000e-01]$$\n",
        "##### Com isso obtemos o resultado descrito no código a seguir apresentado a seguir."
      ],
      "metadata": {
        "id": "TWyzrozAz9y-"
      }
    },
    {
      "cell_type": "code",
      "source": [
        "# Cria os vetores a, b, c, d\n",
        "(a,b,c,d) = tridiagonal_vectors_from_functions(20)\n",
        "\n",
        "# Resolve o sistema linear cíclico Ax = d\n",
        "x = sys_tridiagonal_cyclic(a,b,c,d)\n",
        "\n",
        "x"
      ],
      "metadata": {
        "id": "Rkub48kY1xpt",
        "colab": {
          "base_uri": "https://localhost:8080/"
        },
        "outputId": "d51cbabc-a71a-445c-e435-100e2abb8350"
      },
      "execution_count": null,
      "outputs": [
        {
          "output_type": "execute_result",
          "data": {
            "text/plain": [
              "array([[ 0.33031512],\n",
              "       [ 0.33369784],\n",
              "       [ 0.33082061],\n",
              "       [ 0.32458573],\n",
              "       [ 0.3105381 ],\n",
              "       [ 0.28498139],\n",
              "       [ 0.24375728],\n",
              "       [ 0.18349137],\n",
              "       [ 0.10274415],\n",
              "       [ 0.00360629],\n",
              "       [-0.10669724],\n",
              "       [-0.2147279 ],\n",
              "       [-0.30113746],\n",
              "       [-0.34330813],\n",
              "       [-0.32097501],\n",
              "       [-0.22451082],\n",
              "       [-0.0638644 ],\n",
              "       [ 0.12580676],\n",
              "       [ 0.28713644],\n",
              "       [ 0.35589205]])"
            ]
          },
          "metadata": {},
          "execution_count": 68
        }
      ]
    }
  ]
}