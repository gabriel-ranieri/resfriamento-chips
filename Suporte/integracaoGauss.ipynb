{
  "nbformat": 4,
  "nbformat_minor": 0,
  "metadata": {
    "colab": {
      "provenance": [],
      "collapsed_sections": [
        "87-Hdk4d8lnF",
        "-CRnse7C9n-q",
        "D3Nwonj7eyfd",
        "RMhHo0euiJsV",
        "jvPEcG0W2daq",
        "HcATApxr1uBv",
        "7oxMRXqizye7",
        "LiaJx9xA_EJa",
        "ozEjqcZWjm4J",
        "59kit3iroKTX",
        "p2ehKoCqoRdk",
        "AHNyiktYobTa",
        "5vaP1ZB6pDWM",
        "r_KqUfaCquoM",
        "1jcaR0lPrfg3",
        "kWBSvGb6r2Gg"
      ]
    },
    "kernelspec": {
      "name": "python3",
      "display_name": "Python 3"
    },
    "language_info": {
      "name": "python"
    }
  },
  "cells": [
    {
      "cell_type": "markdown",
      "source": [
        "## Relatório - Integração Numérica de Gauss"
      ],
      "metadata": {
        "id": "BpS1BvQR0ixc"
      }
    },
    {
      "cell_type": "markdown",
      "source": [
        "####Caio Felipe dos Santos Oliveira NUSP: 11808151\n",
        "####Gabriel Ranieri Vaz de Lima NUSP: 11804442"
      ],
      "metadata": {
        "id": "QJcWOoQlFWzl"
      }
    },
    {
      "cell_type": "markdown",
      "source": [
        "###Introdução\n",
        "\n",
        "#####No desenvolvimento desse relatório serão apresentados os códigos, suas respectivas justificativas, além de demonstrações algébricas dos métodos implementados na confecção do código. Para que tal objetivo seja atingido com sucesso, o código será analisado por etapas até que se adquira informações suficientes que possibilitem o embasamento teórico da análise crítica dos resultados que será sintetizada na última etapa do presente relatório, a conclusão.\n",
        "\n",
        "#####Os assuntos a serem abordados nas etapas supracitadas consistem na demonstração do método da Quadratura de Gauss para resolução numérica de integrais, passando pela etapa de Mudança das Variáveis de forma a atender ao método mencionado anteriormente, e por fim, a última etapa do desenvolvimento consistirá na análise da resolução de Integrais Duplas, através do método da Quadratura de Gauss."
      ],
      "metadata": {
        "id": "RYpiBaXG0xHL"
      }
    },
    {
      "cell_type": "markdown",
      "source": [
        "### Bibliotecas\n",
        "#####A biblioteca NumPy tem como função agregar ao Python a praticidade da criação e realização de operações com arrays, ou seja, matrizes que podem ser multidimensionais.\n",
        "##### A math possibiltará a inserção de funções matemáticas mais complexas.\n",
        "##### A mathplotlib, por sua vez, permite a melhor visualização dos dados, trabalhando em conjunto com a biblioteca NumPy."
      ],
      "metadata": {
        "id": "87-Hdk4d8lnF"
      }
    },
    {
      "cell_type": "code",
      "execution_count": null,
      "metadata": {
        "id": "UKDEJqa7ChEt"
      },
      "outputs": [],
      "source": [
        "import numpy as np\n",
        "import math"
      ]
    },
    {
      "cell_type": "markdown",
      "source": [
        "### Dados para Desenvolvimento do Exercício Programa.\n",
        "##### O código abaixo é responsável por armazenar os dados de pesos e dos nós, na utilização de 2, 6, 8 ou 10 nós, que serão aplicados posteriormente no método da Quadratura de Gauss. Esses valores são importantes para serem aplicados nas integrais, cujos limite de integração inferior será -1 e o superior será 1, conforme será descrito detalhadamente na etapa de demonstração do método utilizado e na etapa de mudanças das variáveis de integração."
      ],
      "metadata": {
        "id": "-CRnse7C9n-q"
      }
    },
    {
      "cell_type": "code",
      "source": [
        "def node_weights(n): # Armazena os valores de pesos e nós\n",
        "    \n",
        "    if n == 2: # 2 nós  \n",
        "        xj = [-1/math.sqrt(3),\n",
        "              1/math.sqrt(3)]\n",
        "        \n",
        "        wj = [1,\n",
        "              1]\n",
        "  \n",
        "    elif n == 6: # 6 nós\n",
        "        xj = [-0.9324695142031520278123016,\n",
        "              -0.6612093864662645136613996,\n",
        "              -0.2386191860831969086305017,\n",
        "              0.2386191860831969086305017,\n",
        "              0.6612093864662645136613996,\n",
        "              0.9324695142031520278123016]\n",
        "        \n",
        "        wj = [0.1713244923791703450402961,\n",
        "              0.3607615730481386075698335,\n",
        "              0.4679139345726910473898703,\n",
        "              0.4679139345726910473898703,\n",
        "              0.3607615730481386075698335,\n",
        "              0.1713244923791703450402961]\n",
        "        \n",
        "    elif n==8: # 8 nós\n",
        "        \n",
        "        xj = [-0.9602898564975362316835609,\n",
        "              -0.7966664774136267395915539,\n",
        "              -0.5255324099163289858177390,\n",
        "              -0.1834346424956498049394761,\n",
        "              0.1834346424956498049394761,\n",
        "              0.5255324099163289858177390,\n",
        "              0.7966664774136267395915539,\n",
        "              0.9602898564975362316835609]\n",
        "       \n",
        "        wj = [0.1012285362903762591525314,\n",
        "              0.2223810344533744705443560,\n",
        "              0.3137066458778872873379622,\n",
        "              0.3626837833783619829651504,\n",
        "              0.3626837833783619829651504,\n",
        "              0.3137066458778872873379622,\n",
        "              0.2223810344533744705443560,\n",
        "              0.1012285362903762591525314]\n",
        "       \n",
        "    elif n ==10: # 10 nós\n",
        "        \n",
        "        xj = [-0.9739065285171717200779640,\n",
        "              -0.8650633666889845107320967,\n",
        "              -0.6794095682990244062343274,\n",
        "              -0.4333953941292471907992659,\n",
        "              -0.1488743389816312108848260,\n",
        "              0.1488743389816312108848260,\n",
        "              0.4333953941292471907992659,\n",
        "              0.6794095682990244062343274,\n",
        "              0.8650633666889845107320967,\n",
        "              0.9739065285171717200779640]\n",
        "         \n",
        "        wj = [0.0666713443086881375935688,\n",
        "              0.1494513491505805931457763,\n",
        "              0.2190863625159820439955349,\n",
        "              0.2692667193099963550912269,\n",
        "              0.2955242247147528701738930,\n",
        "              0.2955242247147528701738930,\n",
        "              0.2692667193099963550912269,\n",
        "              0.2190863625159820439955349,\n",
        "              0.1494513491505805931457763,\n",
        "              0.0666713443086881375935688]\n",
        "    else:\n",
        "        raise ValueError('n must be either 2, 6, 8 or 10')\n",
        "         \n",
        "    return xj, wj"
      ],
      "metadata": {
        "id": "gH4JNv3tEy63"
      },
      "execution_count": null,
      "outputs": []
    },
    {
      "cell_type": "code",
      "source": [],
      "metadata": {
        "id": "ENtKk6PcEXH6"
      },
      "execution_count": null,
      "outputs": []
    },
    {
      "cell_type": "markdown",
      "source": [
        "### Funções Anônimas\n",
        "##### As funções lambda utilizadas em Python funcionam como argumentos que serão passados posteriormente a funções de ordem superior ou contribuirão com a obtenção do resultado de uma função de ordem superior. No desenvolvimento do exercício-programa essas funções serão utilizadas para obter os limites de integração, quando eles tratarem de funções e para a obtenção da função a ser integrada."
      ],
      "metadata": {
        "id": "D3Nwonj7eyfd"
      }
    },
    {
      "cell_type": "code",
      "source": [
        "# As funções a seguir recebem funções em alguns de seus parâmetros para o cálculo das \n",
        "#integrais. Estes parâmetros devem ser determinados antes, \n",
        "# pela função lambda do Python. Exemplos:\n",
        "\n",
        "f = lambda x: x # Determina a função f(x) = x\n",
        "\n",
        "g = lambda x, y: x - y # Determina a função f(x,y) = x - y"
      ],
      "metadata": {
        "id": "ms5UjznkF1Hm"
      },
      "execution_count": null,
      "outputs": []
    },
    {
      "cell_type": "markdown",
      "source": [
        "### Método da Quadratura de Gauss\n",
        "#### Fórmulas de Gauss\n",
        "##### Para efeito de demonstração da obtenção da fórmula de Gauss, será utilizado como ponto de partida a fórmula de Newton-Cotes para aproximação de integrais que considerava n+1 pontos igualmente espaçados. No caso da Quadratura de Gauss, os pontos a serem escolhidos, utilizarão um critério diferente, onde será buscada a maior eficiência possível para uma melhor aproximação das integrais. Para o caso de n+1 pontos mencionado anteriormente, é esperado que o método de Gauss calcule a integral com exatidão para polinômios com grau de 2n+1 (fator esse que será demonstrado no tópico a seguir, de Mudança de Variável). Impostas essas hipóteses, vamos iniciar a demonstração para o caso em que o método de Gauss retorna o resultado exato para funções de grau menor ou igual que 3.\n",
        "##### Para iniciar a demonstração, vamos expor a fórmula de Newton-Cotes e em seguida desenvolve-la para o caso supracitado:\n",
        "$$\n",
        "\\int^{b}_{a}f(x)dx \\approx w_0f(x_0)+w_1f(x_1)+...+w_nf(x_n)\n",
        "$$\n",
        "##### Adaptando a equação para o caso em que a fórmula de Gauss precisa fornecer solução exata para equações de grau menor ou igual que 5, e considerando o intervalo de integração de [-1, 1] para esse exemplo, já que a fórmula para mudança do intervalo será descrita a seguir, teremos:\n",
        "$$\n",
        "\\int^{1}_{-1}f(x)dx \\approx w_0f(x_0)+w_1f(x_1)\n",
        "$$\n",
        "##### Para determinar os coeficientes e pontos ótimos para a realização dessa aproximação de integral será desenvolvido um sistema não linear, com base no cálculo numérico das integrais conhecidas:\n",
        "$$\n",
        "(1) \\, \\int^{1}_{-1}1dx = w_0.1+w_1.1 = 2 \n",
        "$$\n",
        "$$\n",
        "(2) \\, \\int^{1}_{-1}xdx = w_0.x_0+w_1.x_1 = 0\n",
        "$$\n",
        "$$\n",
        "(3) \\, \\int^{1}_{-1}x^2dx = w_0.x_0^2+w_1.x_1^2 = \\frac{2}{3}\n",
        "$$\n",
        "$$\n",
        "(4) \\, \\int^{1}_{-1}x^3dx = w_0.x_0^3+w_1.x_1^3 = 0\n",
        "$$\n",
        "##### Para resolver esse sistema não linear podemos multiplicar a equação (2) por $$-x_1^2$$ E somá-la na equação (4), assim é obtido que: $$w_0=0 \\,\\, ou \\,\\, x_0=0 \\,\\, ou \\,\\, x_1^2 - x_0^2 = 0$$ Apesar disso sabemos que $$w_0 \\neq 0$$ \n",
        "#####Porque ao substituir o valor dessa variável nas equações 2 e 3 vamos obter valores diferentes para o segundo ponto, por simetria o mesmo é válido para o coeficiente que múltiplica o segundo ponto na equação (2). Fazendo uma análise similar para o primeiro ponto temos que:\n",
        "$$\n",
        "x_0 \\neq 0 \\,\\, e \\,\\, x_0 \\neq x_1\n",
        "$$\n",
        "##### Como estamos buscando pontos diferentes para realizar a equação é preciso que os dois presentes nessa equação sejam diferentes, item esse que não será atingido caso adotemos qualquer um dos dois pontos iguais a 0, para o caso desse sistema não linear. Assim, podemos concluir para essa primeira análise que:\n",
        "$$\n",
        "x_1^2-x_0^2=(x_1+x_0).(x_1-x_0)=0 \n",
        "$$\n",
        "##### Como os pontos precisam ser diferentes entre si, temos que:\n",
        "$$\n",
        "(x_1+x_0)=0 \\,\\, => \\,\\, x_1=-x_0\n",
        "$$\n",
        "##### Substituindo o valor do segundo ponto na segunda equação e sabendo que para esse caso os pontos precisam ser diferente de 0, conforme explicitado anteriormente, são obtidas as seguintes igualdades:\n",
        "$$\n",
        "w_0.x_0 - w_1.x_0 = 0 \\,\\, => \\,\\, (w_0-w_1) = 0  \\,\\, => \\,\\, w_0=w_1\n",
        "$$\n",
        "##### Realizando a substituição dos valores dos coeficientes na primeira equação e posteriormente utilizando a terceira equação para encontrar os pontos, sabendo que o primeiro ponto é menor do que o segundo ponto, teremos que:\n",
        "$$\n",
        "w_0 = w_1 = 1\n",
        "$$\n",
        "$$\n",
        "x_0 = -x_1 = -\\sqrt{\\frac{1}{3}}\n",
        "$$\n",
        "##### É válido ressaltar que o mesmo processo de resolução de equações não lineares pode ser aplicado para a determinação dos coeficientes e pontos para a Quadratura de Gauss. Assim, obtemos a fórmula de Gauss de soluções exatas para funções de grau menor ou igual que 3:\n",
        "$$\n",
        "\\int^{1}_{-1}f(x)dx \\approx 1.f(-\\sqrt{\\frac{1}{3}})+1.f(\\sqrt{\\frac{1}{3}})\n",
        "$$\n",
        "#### Mudança de Variável\n",
        "##### Na tarefa do exercício programa aqui desenvolvido, foi proposto o desenvolvimento de uma fórmula exata para cálculo de integrais de grau menor ou igual que 5, para tal ação será realizado o cálculo com seis funções diferentes com o grau variando de 0 a 6, de forma a analisar o comportamento da fórmula para cada um desses casos, além disso, será feito o cálculo convencional das integrais buscando suas primitivas e o cálculo através da fórmula de Gauss, para efeito de comparação e verificação da exatidão do método da Quadratura de Gauss:\n",
        "##### Função de grau 0 - Integração por primitivas:\n",
        "$$\n",
        "\\int^{1}_{-1}f(x)dx = \\int^{1}_{-1}1dx = x|^{1}_{-1} = 2\n",
        "$$\n",
        "##### Função de grau 0 - Integração pela fórmula de Gauss:\n",
        "$$\n",
        "\\frac{5}{9} f(-\\sqrt{0.6})+\\frac{8}{9}f(0)+\\frac{5}{9}f(\\sqrt{0.6}) = \\frac{5}{9}.1+\\frac{8}{9}.1+\\frac{5}{9}.1 = 2\n",
        "$$\n",
        "##### Função de grau 1 - Integração por primitivas:\n",
        "$$\n",
        "\\int^{1}_{-1}f(x)dx = \\int^{1}_{-1}xdx = \\frac{x^2}{2}|^{1}_{-1} = 0\n",
        "$$\n",
        "##### Função de grau 1 - Integração pela fórmula de Gauss:\n",
        "$$\n",
        "\\frac{5}{9} f(-\\sqrt{0.6})+\\frac{8}{9}f(0)+\\frac{5}{9}f(\\sqrt{0.6}) = \\frac{5}{9}.-\\sqrt{0.6}+\\frac{8}{9}.0+\\frac{5}{9}.\\sqrt{0.6} = 0\n",
        "$$\n",
        "##### Função de grau 2 - Integração por primitivas:\n",
        "$$\n",
        "\\int^{1}_{-1}f(x)dx = \\int^{1}_{-1}x^2dx = \\frac{x^3}{3}|^{1}_{-1} = \\frac{2}{3}\n",
        "$$\n",
        "##### Função de grau 2 - Integração pela fórmula de Gauss:\n",
        "$$\n",
        "\\frac{5}{9} f(-\\sqrt{0.6})+\\frac{8}{9}f(0)+\\frac{5}{9}f(\\sqrt{0.6}) = \\frac{5}{9}.(0.6)+\\frac{8}{9}.0+\\frac{5}{9}.(0.6) = \\frac{2}{3}\n",
        "$$\n",
        "##### Função de grau 3 - Integração por primitivas:\n",
        "$$\n",
        "\\int^{1}_{-1}f(x)dx = \\int^{1}_{-1}x^3dx = \\frac{x^4}{4}|^{1}_{-1} = 0\n",
        "$$\n",
        "##### Função de grau 3 - Integração pela fórmula de Gauss:\n",
        "$$\n",
        "\\frac{5}{9} f(-\\sqrt{0.6})+\\frac{8}{9}f(0)+\\frac{5}{9}f(\\sqrt{0.6}) = \\frac{5}{9}.(-\\sqrt{0.6})^3+\\frac{8}{9}.0+\\frac{5}{9}.(\\sqrt{0.6})^3 = 0\n",
        "$$\n",
        "##### Função de grau 4 - Integração por primitivas:\n",
        "$$\n",
        "\\int^{1}_{-1}f(x)dx = \\int^{1}_{-1}x^4dx = \\frac{x^5}{5}|^{1}_{-1} = \\frac{2}{5}\n",
        "$$\n",
        "##### Função de grau 4 - Integração pela fórmula de Gauss:\n",
        "$$\n",
        "\\frac{5}{9} f(-\\sqrt{0.6})+\\frac{8}{9}f(0)+\\frac{5}{9}f(\\sqrt{0.6}) = \\frac{5}{9}.(0.36)+\\frac{8}{9}.0+\\frac{5}{9}.(0.36) = \\frac{2}{5}\n",
        "$$\n",
        "##### Função de grau 5 - Integração por primitivas:\n",
        "$$\n",
        "\\int^{1}_{-1}f(x)dx = \\int^{1}_{-1}x^5dx = \\frac{x^6}{6}|^{1}_{-1} = 0\n",
        "$$\n",
        "##### Função de grau 5 - Integração pela fórmula de Gauss:\n",
        "$$\n",
        "\\frac{5}{9} f(-\\sqrt{0.6})+\\frac{8}{9}f(0)+\\frac{5}{9}f(\\sqrt{0.6}) = \\frac{5}{9}.(-\\sqrt{0.6})^5+\\frac{8}{9}.0+\\frac{5}{9}.(\\sqrt{0.6})^3 = 0\n",
        "$$\n",
        "##### Função de grau 6 - Integração por primitivas:\n",
        "$$\n",
        "\\int^{1}_{-1}f(x)dx = \\int^{1}_{-1}x^6dx = \\frac{x^7}{7}|^{1}_{-1} = \\frac{2}{7}\n",
        "$$\n",
        "##### Função de grau 6 - Integração pela fórmula de Gauss:\n",
        "$$\n",
        "\\frac{5}{9} f(-\\sqrt{0.6})+\\frac{8}{9}f(0)+\\frac{5}{9}f(\\sqrt{0.6}) = \\frac{5}{9}.(-\\sqrt{0.6})^6+\\frac{8}{9}.0+\\frac{5}{9}.(\\sqrt{0.6})^6 = \\frac{6}{25}\n",
        "$$\n",
        "##### Desta forma, podemos concluir que a fórmula exata para funções de grau menor ou igual que 5 do método da Quadratura de Gauss, atende às hipóteses apresentadas inicialmente.\n",
        "##### A demonstração da fórmula de Gauss exata para polinômios de grau menor ou igual a 5 em um intervalo [a,b] consiste, inicialmente na aquisição dos dados para n=2 que considera três pontos e garante solução exata para o grau menor ou igual a 5. Esse processo é iniciado como se os limites de integração estivessem definidos para um intervalo [-1,1], mas com a necessidade de implementação de fatores de correção, que serão chamados de coeficientes (k e k2) no decorrer desse documento:\n",
        "$$\n",
        "\\int^{a}_{b} f(x) \\, dx= \\frac{5k}{9}f((-\\sqrt{0.6}+k2)*k)+\\frac{8k}{9}f((0+k2)*k)\\frac{5k}{9}f((\\sqrt{0.6}+k2)*k)\n",
        "$$\n",
        "##### Para o cálculo de k e k2, consideremos inicialmente a função:\n",
        "$$\n",
        "u = \\Phi(x) \n",
        "$$\n",
        "##### Onde:\n",
        "$$\n",
        "\\Phi(a)=-1\n",
        "$$\n",
        "$$\n",
        "\\Phi(b)=1\n",
        "$$\n",
        "##### É possível escolher qualquer função, desde que ela atenda às especificações acima descritas, entretanto para essa demonstração será selecionada uma função de primeiro grau pela praticidade dos cálculos, sendo assim teremos:\n",
        "$$\n",
        "\\Phi(x)=\\alpha x + \\beta \n",
        "$$\n",
        "##### Atendendo as especificações anteriores, temos:\n",
        "$$\n",
        "\\alpha a + \\beta = -1\n",
        "$$\n",
        "$$\n",
        "\\alpha b + \\beta = 1\n",
        "$$\n",
        "##### Resolvendo o sistema linear teremos que:\n",
        "$$\n",
        "\\alpha = \\frac{2}{b-a}\n",
        "$$\n",
        "$$\n",
        "\\beta = -\\frac{a+b}{b-a}\n",
        "$$\n",
        "##### Assim, podemos substituir os valores na função Phi inicialmente disposta:\n",
        "$$\n",
        "\\Phi(x)=u=\\frac{2x-(a+b)}{b-a} \n",
        "$$\n",
        "##### Isolando o x, temos:\n",
        "$$\n",
        "x=\\frac{a+b+u(b-a)}{2}\n",
        "$$\n",
        "##### Calculando o dx:\n",
        "$$\n",
        "dx=k=\\frac{b-a}{2}\n",
        "$$\n",
        "##### Obteremos o valor de k2 através do quociente entre x e k, cálculo esse já explicitado na fórmula de Gauss para cálculo de integral apresentada no início desse tópico:\n",
        "$$\n",
        "k2 = \\frac{x}{k} = \\frac{a+b}{b-a}\n",
        "$$\n",
        "##### Assim podemos substituir os valores na fórmula exata para cálculo de integral de polinômios de grau menor ou igual que 5 inicialmente disposta, para qualquer valor de limite de integração [a,b]:\n",
        "$$\n",
        "\\int^{a}_{b} f(x) \\, dx= \\frac{5\\frac{b-a}{2}}{9}f((-\\sqrt{0.6}+\\frac{a+b}{b-a})*\\frac{b-a}{2})+\n",
        "$$\n",
        "$$\n",
        "\\frac{8\\frac{b-a}{2}}{9}f((0+\\frac{a+b}{b-a})*\\frac{b-a}{2})+\\frac{5\\frac{b-a}{2}}{9}f((\\sqrt{0.6}+\\frac{a+b}{b-a})*\\frac{b-a}{2})\n",
        "$$\n",
        "#### Descrição do Código\n",
        "##### O código que desenvolve o método de Gauss, obtém inicialmente os valores dos nós e pesos, dispostos na função \"node_weights\" que comporta os dados necessários para a realização desse tipo de integração, conforme descrito no tópico \"Dados para desenvolvimento do Exercício Programa\". Feita a aquisição dos dados, são feitas quatro listas de nós em um array, uma para os nós \"xj\", outra para os pesos \"wi\", a terceira trata-se da derivada de um ponto x obtida através da função de primeiro grau responsável por realizar a mudança dos limites de integração para -1 e 1, e a quarta é referente ao quociente do coeficiente linear pelo  coeficiente angular da mesma função descrita anteriormente. O resultado do cálculo dessas constantes são os responsáveis por possibilitar a alteração dos limites de integração sem que o resultado final seja alterado, através da determinação de um conjunto de função e respectiva derivada equivalentes para os novos limites. Obtidas as informações para construção da integração através do método da Quadratura de Gauss, são realizados os cálculos propriamente ditos no laço for, que soma cada conjunto de produto dos pesos pela função nos nós."
      ],
      "metadata": {
        "id": "RMhHo0euiJsV"
      }
    },
    {
      "cell_type": "code",
      "source": [
        "def integrate_gaussian(n,f,a,b): # Cálculo de uma integral pelo método gaussiano\n",
        "    # Parâmetros de entrada:\n",
        "    # n: número de nós (int)\n",
        "    # f: f(x) -> função a ser integrada (function), necessariamente em função de uma \n",
        "    #única variável\n",
        "    # a: limite inferior (int, float)\n",
        "    # b: limite superior (int, float)\n",
        "\n",
        "    (xj,wi)=node_weights(n) # Busca os valores dos nós e pesos\n",
        "    xj =np.array(xj) # Transforma a lista de nós em um array\n",
        "    \n",
        "    wi = np.array(wi) # Transforma a lista de pesos em um array\n",
        "        \n",
        "    k = (b-a)/2 \n",
        "    k=np.array(k)\n",
        "    \n",
        "    wi = k * wi # Vetor de pesos após a mudança de variável\n",
        "    \n",
        "    k2 = (a+b)/(b-a)\n",
        "    k2=np.array((a+b)/(b-a))\n",
        "    \n",
        "    xj = (xj + k2) * k # Vetor de nós após a mudança de variável\n",
        "    I = 0 # Somatório\n",
        "\n",
        "    for i in range(n): # Atravessa cada nó e soma a parcela na parcial I\n",
        "        I += wi[i] * f(xj[i])\n",
        "   \n",
        "    return I"
      ],
      "metadata": {
        "id": "JVb_GOqCE4EX"
      },
      "execution_count": null,
      "outputs": []
    },
    {
      "cell_type": "markdown",
      "source": [
        "####Exemplo para Integral Simples\n",
        "##### O presente exercício tem como intuito demonstrar a aplicação do código no cálculo de uma integral simples genérica, buscando comparar a eficiência do cálculo numérico com o realizado computacionalmente, serão expostos ambos os resultados, assim como a resolução numérica.\n",
        "##### A resolução numérica do exemplo consiste do desenvolvimento da seguinte integral:\n",
        "$$\n",
        "\\int_{0}^{2} x^3 \\, dx = \\frac{x^4}{4}|^{2}_{0} = 4\n",
        "$$\n",
        "##### Resolvendo o exemplo pela Quadratura de Gauss aplicada computacionalmente temos que:"
      ],
      "metadata": {
        "id": "jvPEcG0W2daq"
      }
    },
    {
      "cell_type": "code",
      "source": [
        "# Exemplo\n",
        "n = [2,6,8,10] # lista com diferentes quantidades de nós\n",
        "a=0 # Limite inferior\n",
        "b=2 # Limite superior\n",
        "f = lambda x: x**3 # f(x) = x**3\n",
        "\n",
        "for i in range(len(n)): # Calcula a integral utilizando os números de nós determinados \n",
        "#na lista n\n",
        "  print(n[i], ' nós: ',integrate_gaussian(n[i],f,a,b))\n",
        "\n",
        "exato = 4 # Resultado exato da integral\n",
        "print('Resultado exato:', exato)"
      ],
      "metadata": {
        "colab": {
          "base_uri": "https://localhost:8080/"
        },
        "id": "wkh8QKnJyVL5",
        "outputId": "ebacc54b-7feb-4fb9-ea8f-8ddb310e174a"
      },
      "execution_count": null,
      "outputs": [
        {
          "output_type": "stream",
          "name": "stdout",
          "text": [
            "2  nós:  3.9999999999999996\n",
            "6  nós:  4.0\n",
            "8  nós:  4.000000000000001\n",
            "10  nós:  4.0\n",
            "Resultado exato: 4\n"
          ]
        }
      ]
    },
    {
      "cell_type": "markdown",
      "source": [
        "### Método da Quadratura de Gauss para Integrais Duplas\n",
        "#### Integral Dupla\n",
        "##### Para o caso da integração Dupla da Quadratura de Gauss, conforme será explicitado a seguir na descrição do código, há a resolução inicial da integral interna, onde caso haja limites de integração diferentes [-1, 1] será aplicado o conceito de mudança de variável, o mesmo é válido para integral externa, entretanto para a interna esse cálculo poderá ser feito utilizando funções ao invés de valores float ou inteiros. Desta forma, também serão aplicadas constantes k e k2 que multiplicarão valores dos pesos e dos nós na equação do método de Gauss.\n",
        "#### Descrição do Código\n",
        "##### Assim como o código anterior que desenvolve o método de Gauss, a função a seguir realiza os mesmos passos para integrais duplas. O processo aplicado na integral externa é exatamente igual ao descrito anteriormente, enquanto a integral interna se diferencia na realização da mudança dos limites de integração, que apesar de ocorrer de forma similar ao já descrito para os nós da integral simples, mas considerando funções para o cálculo dos coeficientes ao invés dos limites determinados por valores int ou floats, para o caso da integral interna possuir funções. Caso as duas integrais possuam valores do tipo float ou int como limites de integração o processo aplicado é o mesmo para funções, tendo o método para cálculo do vetor dos nós exatamente igual ao aplicado para integrais simples."
      ],
      "metadata": {
        "id": "HcATApxr1uBv"
      }
    },
    {
      "cell_type": "code",
      "source": [
        "def integratedb_gaussian(n,f,c,d,a,b): # Calculo de integral dupla pelo método gaussiano\n",
        "    # Parâmetros de entrada:\n",
        "    # n: número de nós (int)\n",
        "    # f: f(x,y) -> função a ser integrada (function), necessariamente em função de \n",
        "    #duas variaveis\n",
        "    # c: c(x), função do limite inferior da integral interna (function), \n",
        "    #necessariamente em função de uma única variável\n",
        "    # d: d(x), função do limite superior da integral interna (function), \n",
        "    #necessariamente em função de uma única variável\n",
        "    # a: limite inferior da integral externa (int, float)\n",
        "    # b: limite superior da integral externa (int, float) \n",
        "\n",
        "    (xj,wj)=node_weights(n) # Busca os valores dos nós e pesos\n",
        "    xj =np.array(xj)\n",
        "    wj = np.array(wj)\n",
        "    \n",
        "    yj = lambda x: (xj +(c(x)+d(x))/(d(x)-c(x))) * (d(x)-c(x))/2 \n",
        "    # Vetor de nós y em função de x, após a mudança de variável\n",
        "    \n",
        "    # Vetor de pesos wj em função de x, após a mudança de variável: wj * (d(x)-c(x))/2\n",
        "\n",
        "    g = lambda x: sum(wj * (d(x)-c(x))/2 * f(x,yj(x))) \n",
        "    # Aplicação do método na integral interna\n",
        "    \n",
        "    return integrate_gaussian(n,g,a,b) # Aplicação do método na integral externa"
      ],
      "metadata": {
        "id": "6HVrVh9HFLfU"
      },
      "execution_count": null,
      "outputs": []
    },
    {
      "cell_type": "code",
      "source": [
        "print (g)"
      ],
      "metadata": {
        "colab": {
          "base_uri": "https://localhost:8080/"
        },
        "id": "PBS7oAa3KEAT",
        "outputId": "c2a8266b-7e9d-4f06-85c1-c17b6ea2b132"
      },
      "execution_count": null,
      "outputs": [
        {
          "output_type": "stream",
          "name": "stdout",
          "text": [
            "<function <lambda> at 0x7ff7faf640e0>\n"
          ]
        }
      ]
    },
    {
      "cell_type": "markdown",
      "source": [
        "####Exemplo para Integral Dupla\n",
        "##### O presente exercício tem como intuito demonstrar a aplicação do código no cálculo de uma integral dupla genérica, buscando comparar a eficiência do cálculo numérico com o realizado computacionalmente, serão expostos ambos os resultados, assim como a resolução numérica.\n",
        "##### A resolução numérica do exemplo consiste do desenvolvimento da seguinte integral:\n",
        "$$\n",
        "\\int_{0}^{2}\\int_{x}^{x^2} (2x^2+3y) \\,dy dx = \\int_{0}^{2} (2yx^2+\\frac{3y^2}{2})|_{x}^{x^2} \\, dx = \n",
        "$$\n",
        "$$\n",
        "\\int_{0}^{2} \\frac{7x^4-4x^3-3x^2}{2} \\, dx = \\frac{1}{2}(\\frac{7x^5}{5} - \\frac{4x^4}{4} - \\frac{3x^3}{3})|_{0}^{2} = 52/5\n",
        "$$\n",
        "##### Resolvendo o exemplo pela Quadratura de Gauss aplicada computacionalmente temos que:"
      ],
      "metadata": {
        "id": "7oxMRXqizye7"
      }
    },
    {
      "cell_type": "code",
      "source": [
        "# Exemplo\n",
        "n = [2,6,8,10] # lista com diferentes quantidades de nós\n",
        "a=0 # Limite inferior da integral externa\n",
        "b=2 # Limite superior da integral externa\n",
        "c = lambda x : x # c(x) = x; Limite inferior da integral interna\n",
        "d = lambda x: x**2 # d(x) = x**2; Limite superior da integral interna\n",
        "f = lambda x,y: 2*(x**2)+3*y # f(x,y) = 2*x**2 + 3y\n",
        "\n",
        "for i in range(len(n)): # Calcula a integral dupla utilizando os números de nós determinados na lista n\n",
        "  print(n[i], ' nós: ',integratedb_gaussian(n[i],f,c,d,a,b))\n",
        "\n",
        "print('Resultado exato:',52/5)"
      ],
      "metadata": {
        "colab": {
          "base_uri": "https://localhost:8080/"
        },
        "id": "2pm4M3930p48",
        "outputId": "a94bd7e6-64c5-4a1f-bf05-4e303db119e3"
      },
      "execution_count": null,
      "outputs": [
        {
          "output_type": "stream",
          "name": "stdout",
          "text": [
            "2  nós:  9.77777777777778\n",
            "6  nós:  10.400000000000002\n",
            "8  nós:  10.400000000000002\n",
            "10  nós:  10.400000000000002\n",
            "Resultado exato: 10.4\n"
          ]
        }
      ]
    },
    {
      "cell_type": "markdown",
      "source": [
        "Nota-se ainda que como a função na integral externa, após o cálculo da integral interna, possui grau 4, o cálculo com 2 nós não é exato. Isso se deve a propriedade já demonstrada de que o cálculo da integral será exato para funções com grau menor ou igual a 2n -1, sendo n o número de nós."
      ],
      "metadata": {
        "id": "Cj_wHVr1UUi7"
      }
    },
    {
      "cell_type": "markdown",
      "source": [
        "### Exemplos propostos de integração.\n",
        "##### Além dos exemplos demonstrados anteriormente, serão solucionados através do código e numericamente os exemplos a seguir com o intuito de realizar a comparação entre os resultados obtidos no código e os obtidos ao se aplicar o método fora do meio computacional. Os exemplos aqui apresentados são todos os propostos na tarefa referente a esse exercício programa.\n",
        "##### Durante a realização dessa tarefa foi levada em consideração a realização dos cálculos numéricos através do método da Quadratura de Gauss, entretanto nesse caso seriam utilizados os mesmos coeficientes do banco de dados do exercício programa para os valores de \"n\" lá dispostos isso possibilitaria apenas uma análise do erro de arredondamento, não possibilitando que fossem tiradas conclusões concretas acerca da aplicação computacional da Quadratura de Gauss como um método aplicado. \n",
        "##### Dessa forma, optou-se por realizar a integração pelo método tradicional, buscando as funções primitivas da função a ser integrada, para que assim fosse possível determinar, nos casos que houver, o erro existente entre os resultados obtidos, analisando a eficiência do código aqui desenvolvido."
      ],
      "metadata": {
        "id": "LiaJx9xA_EJa"
      }
    },
    {
      "cell_type": "markdown",
      "source": [
        "#### Enunciado Exemplo 1: \n",
        "#####Calcule os volumes do cubo cujas arestas tem comprimento 1 e do tetraedro com vértices (0, 0, 0), (1, 0, 0), (0, 1, 0) e (0, 0, 1).\n"
      ],
      "metadata": {
        "id": "y9De6A_q-xbc"
      }
    },
    {
      "cell_type": "markdown",
      "source": [
        "####Resolução Exemplo 1.1\n",
        "##### A resolução numérica do exemplo 1.1 (volume do cubo) consiste do desenvolvimento da seguinte integral:\n",
        "$$\n",
        "\\int_{0}^{1}\\int_{0}^{1} 1 \\,dy dx = \\int_{0}^{1}(y|^1_0) dx = \\int_{0}^{1}1 dx = x|^1_0 = 1\n",
        "$$\n",
        "##### Resolvendo o Exemplo 1.1 pela Quadratura de Gauss aplicada computacionalmente temos que:\n"
      ],
      "metadata": {
        "id": "ozEjqcZWjm4J"
      }
    },
    {
      "cell_type": "code",
      "source": [
        "# Exemplo 1.1\n",
        "n = [2,6,8,10]\n",
        "a=0\n",
        "b=1\n",
        "c = lambda x : 0 \n",
        "d = lambda x: 1 \n",
        "f = lambda x,y: 1\n",
        "\n",
        "for i in range(len(n)):\n",
        "  print(n[i], ' nós: ',integratedb_gaussian(n[i],f,c,d,a,b))\n",
        "\n",
        "print('Resultado exato:',1)"
      ],
      "metadata": {
        "colab": {
          "base_uri": "https://localhost:8080/"
        },
        "id": "YjSJF-rl8_Mp",
        "outputId": "8f76afa9-fcf1-440b-9a63-eabe307c52eb"
      },
      "execution_count": null,
      "outputs": [
        {
          "output_type": "stream",
          "name": "stdout",
          "text": [
            "2  nós:  1.0\n",
            "6  nós:  1.0\n",
            "8  nós:  1.0\n",
            "10  nós:  1.0\n",
            "Resultado exato: 1\n"
          ]
        }
      ]
    },
    {
      "cell_type": "markdown",
      "source": [
        "##### Para a análise da eficácia desse exemplo, podemos realizar a comparação entre o valor obtido pelo cálculo numérico e o valor obtido pelo cálculo computacional, para efeitos de metodologia essa comparação será feita através da análise do erro, que consiste em realizar a subtração entre o valor calculado numericamente e o valor calculado pelo código para cada valor de n, tirando o módulo desse resultado posteriormente.\n",
        "##### No caso do Exemplo 1.1, temos:\n",
        "#####n = 2: |E| = 1-1 = 0\n",
        "#####n = 6: |E| = 1-1 = 0\n",
        "#####n = 8: |E| = 1-1 = 0\n",
        "#####n = 10: |E| = 1-1 = 0\n",
        "##### Portanto, analisados os erros e sua respectiva ordem de grandeza, o cálculo se mostrou eficaz para a resolução dessa integral."
      ],
      "metadata": {
        "id": "MSzVFuIu_a-x"
      }
    },
    {
      "cell_type": "markdown",
      "source": [
        "####Resolução Exemplo 1.2\n",
        "##### A resolução numérica do exemplo 1.2 (volume do tetraedro) consiste do desenvolvimento da seguinte integral:\n",
        "$$\n",
        "\\int_{0}^{1}\\int_{0}^{-x+1} -y-x+1 \\,dy dx = \\int_{0}^{1}(\\frac{-y^2}{2}-xy+y)|^{-x+1}_0 \\, dx = \n",
        "$$\n",
        "$$\n",
        "\\int_{0}^{1} \\frac{-(-x+1)^2}{2}+x^2-2x+1 \\, dx = (\\frac{x^3}{6} - \\frac{x^2}{2} + \\frac{x}{2}) |^1_0 = \\frac{1}{6}\n",
        "$$\n",
        "##### Resolvendo o Exemplo 1.2 pela Quadratura de Gauss aplicada computacionalmente temos que:\n"
      ],
      "metadata": {
        "id": "59kit3iroKTX"
      }
    },
    {
      "cell_type": "code",
      "source": [
        "# Exemplo 1.2\n",
        "n = [2,6,8,10]\n",
        "a=0\n",
        "b=1\n",
        "c = lambda x : 0 \n",
        "d = lambda x: -x+1 \n",
        "f = lambda x,y: -y-x+1\n",
        "\n",
        "for i in range(len(n)):\n",
        "  print(n[i], ' nós: ',integratedb_gaussian(n[i],f,c,d,a,b))\n",
        "\n",
        "print('Resultado exato:',1/6)"
      ],
      "metadata": {
        "colab": {
          "base_uri": "https://localhost:8080/"
        },
        "id": "EVf3dxFk890h",
        "outputId": "ed32625e-2de7-4071-94f9-a0e3f5217762"
      },
      "execution_count": null,
      "outputs": [
        {
          "output_type": "stream",
          "name": "stdout",
          "text": [
            "2  nós:  0.1666666666666667\n",
            "6  nós:  0.16666666666666666\n",
            "8  nós:  0.16666666666666669\n",
            "10  nós:  0.16666666666666669\n",
            "Resultado exato: 0.16666666666666666\n"
          ]
        }
      ]
    },
    {
      "cell_type": "markdown",
      "source": [
        "##### Para a análise da eficácia desse exemplo, podemos realizar a comparação entre o valor obtido pelo cálculo numérico e o valor obtido pelo cálculo computacional, para efeitos de metodologia essa comparação será feita através da análise do erro, que consiste em realizar a subtração entre o valor calculado numericamente e o valor calculado pelo código para cada valor de n, tirando o módulo desse resultado posteriormente.\n",
        "##### No caso do Exemplo 1.2, temos:\n",
        "#####n = 2: |E| = 0.1666666666666667-0.16666666666666666 = 1e-17\n",
        "#####n = 6: |E| = 0.16666666666666666-0.16666666666666666 = 0\n",
        "#####n = 8: |E| = 0.16666666666666669-0.16666666666666666 = 3e-17\n",
        "#####n = 10: |E| = 0.16666666666666669-0.16666666666666666 = 3e-17\n",
        "##### Portanto, analisados os erros e sua respectiva ordem de grandeza, o cálculo se mostrou eficaz para a resolução dessa integral."
      ],
      "metadata": {
        "id": "EMifcRR9Alok"
      }
    },
    {
      "cell_type": "markdown",
      "source": [
        "#### Enunciado Exemplo 2: \n",
        "#####A área A da região no primeiro quadrante limitada pelos eixos e pela curva $$y = 1−x^2$$ pode ser obtida por:\n",
        "$$\n",
        "\\int_{0}^{1}[\\int_{0}^{1-x^2} 1 \\,dy] dx = \\int_{0}^{1}[\\int_{0}^{\\sqrt{1-y}} 1 \\,dx] dy\n",
        "$$\n",
        "#####Calcule numericamente as duas integrais duplas acima e observe os resultados."
      ],
      "metadata": {
        "id": "NymeW4Z9_FHp"
      }
    },
    {
      "cell_type": "markdown",
      "source": [
        "####Resolução Exemplo 2.1\n",
        "##### A resolução numérica do exemplo 2.1 consiste do desenvolvimento da seguinte integral:\n",
        "$$\n",
        "\\int_{0}^{1}\\int_{0}^{1-x^2} 1 \\,dy dx = \\int_{0}^{1} y|^{1-x^2}_0 \\, dx = \\int_{0}^{1} 1-x^2 = (x-\\frac{x^3}{3})|^1_0 = \\frac{2}{3}\n",
        "$$\n",
        "##### Resolvendo o Exemplo 2.1 pela Quadratura de Gauss aplicada computacionalmente temos que:"
      ],
      "metadata": {
        "id": "p2ehKoCqoRdk"
      }
    },
    {
      "cell_type": "code",
      "source": [
        "# Exemplo 2.1\n",
        "n = [2,6,8,10]\n",
        "a=0\n",
        "b=1\n",
        "c = lambda x : 0 \n",
        "d = lambda x: 1-x**2 \n",
        "f = lambda x,y: 1\n",
        "\n",
        "for i in range(len(n)):\n",
        "  print(n[i], ' nós: ',integratedb_gaussian(n[i],f,c,d,a,b))\n",
        "\n",
        "print('Resultado exato:',2/3)"
      ],
      "metadata": {
        "colab": {
          "base_uri": "https://localhost:8080/"
        },
        "id": "QvF8bh2o84-4",
        "outputId": "3df7bbc5-c3c9-44d7-8ecd-11a3b995dbbb"
      },
      "execution_count": null,
      "outputs": [
        {
          "output_type": "stream",
          "name": "stdout",
          "text": [
            "2  nós:  0.6666666666666667\n",
            "6  nós:  0.6666666666666667\n",
            "8  nós:  0.6666666666666666\n",
            "10  nós:  0.6666666666666667\n",
            "Resultado exato: 0.6666666666666666\n"
          ]
        }
      ]
    },
    {
      "cell_type": "markdown",
      "source": [
        "##### Para a análise da eficácia desse exemplo, podemos realizar a comparação entre o valor obtido pelo cálculo numérico e o valor obtido pelo cálculo computacional, para efeitos de metodologia essa comparação será feita através da análise do erro, que consiste em realizar a subtração entre o valor calculado numericamente e o valor calculado pelo código para cada valor de n, tirando o módulo desse resultado posteriormente.\n",
        "##### No caso do Exemplo 2.1, temos:\n",
        "#####n = 2: |E| = 0.1666666666666667-0.16666666666666666 = 1e-17\n",
        "#####n = 6: |E| = 0.1666666666666667-0.16666666666666666 = 1e-17\n",
        "#####n = 8: |E| = 0.16666666666666666-0.16666666666666666 = 0\n",
        "#####n = 10: |E| = 0.1666666666666667-0.16666666666666666 = 1e-17\n",
        "##### Portanto, analisados os erros e sua respectiva ordem de grandeza, o cálculo se mostrou eficaz para a resolução dessa integral."
      ],
      "metadata": {
        "id": "D02nb-ZWBxLV"
      }
    },
    {
      "cell_type": "markdown",
      "source": [
        "####Resolução Exemplo 2.2\n",
        "##### A resolução numérica do exemplo 2.2 consiste do desenvolvimento da seguinte integral:\n",
        "$$\n",
        "\\int_{0}^{1}\\int_{0}^{\\sqrt{1-y}} 1 \\,dx dy = \\int_{0}^{1} x|^{\\sqrt{1-y}}_0 dy = \\int_{0}^{1} \\sqrt{1-y} \\, dy = \\int_{0}^{1} \\sqrt{u} \\, du = \\frac{2*u^\\frac{3}{2}}{3}|^1_0 = \\frac{2}{3}\n",
        "$$\n",
        "##### Resolvendo o Exemplo 2.2 pela Quadratura de Gauss aplicada computacionalmente temos que:"
      ],
      "metadata": {
        "id": "AHNyiktYobTa"
      }
    },
    {
      "cell_type": "code",
      "source": [
        "# Exemplo 2.2\n",
        "n = [2,6,8,10]\n",
        "a=0\n",
        "b=1\n",
        "c = lambda x : 0 \n",
        "d = lambda x: (1-x)**(1/2) \n",
        "f = lambda x,y: 1\n",
        "\n",
        "for i in range(len(n)):\n",
        "  print(n[i], ' nós: ',integratedb_gaussian(n[i],f,c,d,a,b))\n",
        "\n",
        "print('Resultado exato:',2/3)"
      ],
      "metadata": {
        "colab": {
          "base_uri": "https://localhost:8080/"
        },
        "id": "-C0y-LSe8wUB",
        "outputId": "725a3e95-4821-4ff3-ad06-2a8774173aaf"
      },
      "execution_count": null,
      "outputs": [
        {
          "output_type": "stream",
          "name": "stdout",
          "text": [
            "2  nós:  0.6738873386790492\n",
            "6  nós:  0.6670464379156135\n",
            "8  nós:  0.6668355801001766\n",
            "10  nós:  0.6667560429365088\n",
            "Resultado exato: 0.6666666666666666\n"
          ]
        }
      ]
    },
    {
      "cell_type": "markdown",
      "source": [
        "##### Para a análise da eficácia desse exemplo, podemos realizar a comparação entre o valor obtido pelo cálculo numérico e o valor obtido pelo cálculo computacional, para efeitos de metodologia essa comparação será feita através da análise do erro, que consiste em realizar a subtração entre o valor calculado numericamente e o valor calculado pelo código para cada valor de n, tirando o módulo desse resultado posteriormente.\n",
        "##### No caso do Exemplo 2.2, temos:\n",
        "#####n = 2: |E| = 0.6738873386790492-0.6666666666666666 = 0.007220672012382523\n",
        "#####n = 6: |E| = 0.6670464379156135-0.6666666666666666 = 0.00037977124894683634\n",
        "#####n = 8: |E| = 0.6668355801001766-0.6666666666666666 = 0.00016891343350999843\n",
        "#####n = 10: |E| = 0.6667560429365088-0.6666666666666666 = 8.93762698421785e-05\n",
        "##### Portanto, analisados os erros e sua respectiva ordem de grandeza, o cálculo não se mostrou tão eficaz quanto o anterior para a resolução dessa integral, demonstrando que é difícil garantir um erro menor que 10e-5 dependendo das funções limitantes c(x) e d(x) impostas."
      ],
      "metadata": {
        "id": "LiEuFY0pCCiw"
      }
    },
    {
      "cell_type": "markdown",
      "source": [
        "#### Enunciado Exemplo 3:\n",
        "#####Considere a superfície descrita por \n",
        "$$z=e^{\\frac{y}{x}}$$\n",
        "$$0.1 ≤ x ≤ 0.5$$ \n",
        "$$x^3 ≤ y ≤ x^2$$\n",
        "#####Calcule a sua área e o volume da região abaixo dela (a área de uma superfície descrita por z = f(x, y), (x, y) ∈ R é igual a\n",
        "$$\n",
        "\\int \\int_R \\sqrt{f_x(x,y)^2+f_y(x,y)^2+1} \\,\\, dxdy).\n",
        "$$"
      ],
      "metadata": {
        "id": "oSK_ztpK_x2I"
      }
    },
    {
      "cell_type": "markdown",
      "source": [
        "####Resolução Exemplo 3.1\n",
        "##### A resolução numérica do exemplo 3.1 consiste do desenvolvimento da seguinte integral para a área superficial:\n",
        "$$\n",
        "\\int_{0.001}^{0.25}\\int_{\\sqrt{x}}^{\\sqrt[3]{x}} \\sqrt{(\\frac{e^\\frac{x}{y}}{y})^2+(\\frac{-x*e^\\frac{x}{y}}{y^2})^2+1} \\,dy dx = \n",
        "$$\n",
        "$$\n",
        "\\int_{0.001}^{0.25}\\int_{\\frac{\\left(e^{\\frac{2y}{y^{\\frac{1}{2}}}}\\cdot \\left(\\left(y^{\\frac{1}{2}}\\right)^2+y^2\\right)\\right)+\\left(y^{\\frac{1}{2}}\\right)^4}{\\left(y^{\\frac{1}{2}}\\right)^4}}^{\\frac{\\left(e^{\\frac{2y}{y^{\\frac{1}{3}}}}\\cdot \\left(\\left(y^{\\frac{1}{3}}\\right)^2+y^2\\right)\\right)+\\left(y^{\\frac{1}{3}}\\right)^4}{\\left(y^{\\frac{1}{3}}\\right)^4}} \\sqrt{u}\\cdot \\frac{-2e^{\\frac{2y}{x}}x^3-4y^2e^{\\frac{2y}{x}}x-2ye^{\\frac{2y}{x}}\\left(x^2+y^2\\right)}{x^6}du = \n",
        "$$\n",
        "$$\n",
        "\\int^{0.25}_{0.001} -\\frac{4e^{2y^{\\frac{2}{3}}}\\left(e^{2y^{\\frac{2}{3}}}y^2+y^{\\frac{4}{3}}+e^{2y^{\\frac{2}{3}}}y^{\\frac{2}{3}}\\right)^{\\frac{3}{2}}}{3y^3}-\\frac{4e^{2y^{\\frac{2}{3}}}\\left(e^{2y^{\\frac{2}{3}}}y^2+y^{\\frac{4}{3}}+e^{2y^{\\frac{2}{3}}}y^{\\frac{2}{3}}\\right)^{\\frac{3}{2}}}{3y}-\n",
        "$$\n",
        "$$\n",
        "\\frac{4e^{2y^{\\frac{2}{3}}}\\left(e^{2y^{\\frac{2}{3}}}y^2+y^{\\frac{4}{3}}+e^{2y^{\\frac{2}{3}}}y^{\\frac{2}{3}}\\right)^{\\frac{3}{2}}}{3y^{\\frac{7}{3}}}-\\frac{8e^{2y^{\\frac{2}{3}}}\\left(e^{2y^{\\frac{2}{3}}}y^2+y^{\\frac{4}{3}}+e^{2y^{\\frac{2}{3}}}y^{\\frac{2}{3}}\\right)^{\\frac{3}{2}}}{3y^{\\frac{5}{3}}}+\n",
        "$$\n",
        "$$\n",
        "\\frac{4e^{2y^{\\frac{1}{2}}}\\left(y^2+e^{2y^{\\frac{1}{2}}}y^2+e^{2y^{\\frac{1}{2}}}y\\right)^{\\frac{3}{2}}}{3y^3}+\\frac{4e^{2y^{\\frac{1}{2}}}\\left(y^2+e^{2y^{\\frac{1}{2}}}y^2+e^{2y^{\\frac{1}{2}}}y\\right)^{\\frac{3}{2}}}{3y^4}+\n",
        "$$\n",
        "$$\n",
        "\\frac{4e^{2y^{\\frac{1}{2}}}\\left(y+e^{2y^{\\frac{1}{2}}}y+e^{2y^{\\frac{1}{2}}}\\right)^{\\frac{3}{2}}}{3y^3}+\\frac{8e^{2y^{\\frac{1}{2}}}\\left(y^2+e^{2y^{\\frac{1}{2}}}y^2+e^{2y^{\\frac{1}{2}}}y\\right)^{\\frac{3}{2}}}{3y^{\\frac{7}{2}}} \n",
        "$$\n",
        "$$\n",
        "= 0.135715\n",
        "$$\n",
        "##### Resolvendo o Exemplo 3.1 pela Quadratura de Gauss aplicada computacionalmente temos que:\n"
      ],
      "metadata": {
        "id": "5vaP1ZB6pDWM"
      }
    },
    {
      "cell_type": "code",
      "source": [
        "# Exemplo 3.1\n",
        "n = [2,6,8,10]\n",
        "a=0.001\n",
        "b=0.25\n",
        "c = lambda x : x**(1/2) \n",
        "d = lambda x: x**(1/3) \n",
        "f = lambda x,y: ((np.exp(x/y)/(y))**2+((-x*np.exp(x/y)/(y**2))**2+1))**(1/2)\n",
        "\n",
        "for i in range(len(n)):\n",
        "  print(n[i], ' nós: ',integratedb_gaussian(n[i],f,c,d,a,b))\n",
        "\n",
        "print('Resultado exato:',0.135715)"
      ],
      "metadata": {
        "colab": {
          "base_uri": "https://localhost:8080/"
        },
        "id": "4CuN_s6i8cKa",
        "outputId": "50b5419c-8611-40dd-b8a1-13b8bc115367"
      },
      "execution_count": null,
      "outputs": [
        {
          "output_type": "stream",
          "name": "stdout",
          "text": [
            "2  nós:  0.13249125166078143\n",
            "6  nós:  0.13541072616439995\n",
            "8  nós:  0.13558293917395367\n",
            "10  nós:  0.1356527415340969\n",
            "Resultado exato: 0.135715\n"
          ]
        }
      ]
    },
    {
      "cell_type": "markdown",
      "source": [
        "##### Para a análise da eficácia desse exemplo, podemos realizar a comparação entre o valor obtido pelo cálculo numérico e o valor obtido pelo cálculo computacional, para efeitos de metodologia essa comparação será feita através da análise do erro, que consiste em realizar a subtração entre o valor calculado numericamente e o valor calculado pelo código para cada valor de n, tirando o módulo desse resultado posteriormente.\n",
        "##### No caso do Exemplo 3.1, temos:\n",
        "#####n = 2: |E| = 0.13249125166078143-0.135715 = 0.0032237483392185684\n",
        "#####n = 6: |E| = 0.13541072616439995-0.135715 = 0.00030427383560005516\n",
        "#####n = 8: |E| = 0.13558293917395367-0.135715 = 0.00013206082604633185\n",
        "#####n = 10: |E| = 0.1356527415340969-0.135715 = 6.225846590310335e-05\n",
        "##### Portanto, analisados os erros e sua respectiva ordem de grandeza, o cálculo se mostrou eficaz para a resolução dessa integral, porém, mais uma vez, com erros maais significativos devido à definição de limites de integração com funções constituídas de raízes de variáveis."
      ],
      "metadata": {
        "id": "tUPoWdxMDE_X"
      }
    },
    {
      "cell_type": "markdown",
      "source": [
        "####Resolução Exemplo 3.2\n",
        "##### A resolução numérica do exemplo 3.2 consiste do desenvolvimento da seguinte integral para o cálculo do volume abaixo da superfície descrita no exemplo 3.1:\n",
        "$$\n",
        "\\int_{0.1}^{0.5}\\int_{x^3}^{x^2} e^\\frac{y}{x} \\,dy dx = \\int_{0.1}^{0.5}\\int_{x^2}^{x} e^u \\,xdu dx = \\int_{0.1}^{0.5} e^u|_{x^2}^{x} \\,x dx = \n",
        "$$\n",
        "$$\n",
        "\\int_{0.1}^{0.5} xe^x-xe^{x^2} \\, dx = ((xe^x-e^x)-(\\frac{1}{2}e^{x^2}))|^{0.5}_{0.1}\n",
        "$$\n",
        "$$\n",
        "=0.33305566\n",
        "$$\n",
        "##### Resolvendo o Exemplo 3.2 pela Quadratura de Gauss aplicada computacionalmente temos que:"
      ],
      "metadata": {
        "id": "r_KqUfaCquoM"
      }
    },
    {
      "cell_type": "code",
      "source": [
        "# Exemplo 3.2\n",
        "n = [2,6,8,10]\n",
        "a=0.1\n",
        "b=0.5\n",
        "c = lambda x : x**3 \n",
        "d = lambda x: x**2 \n",
        "f = lambda x,y: np.exp(y/x)\n",
        "\n",
        "for i in range(len(n)):\n",
        "  print(n[i], ' nós: ',integratedb_gaussian(n[i],f,c,d,a,b))\n",
        "\n",
        "print('Resultado exato:',0.033305566)"
      ],
      "metadata": {
        "colab": {
          "base_uri": "https://localhost:8080/"
        },
        "id": "aWtFabKG8hSD",
        "outputId": "8f617d41-221e-4440-f95d-e87947d45fb6"
      },
      "execution_count": null,
      "outputs": [
        {
          "output_type": "stream",
          "name": "stdout",
          "text": [
            "2  nós:  0.03334538746239141\n",
            "6  nós:  0.03330556611623718\n",
            "8  nós:  0.03330556611623207\n",
            "10  nós:  0.033305566116232074\n",
            "Resultado exato: 0.033305566\n"
          ]
        }
      ]
    },
    {
      "cell_type": "markdown",
      "source": [
        "##### Para a análise da eficácia desse exemplo, podemos realizar a comparação entre o valor obtido pelo cálculo numérico e o valor obtido pelo cálculo computacional, para efeitos de metodologia essa comparação será feita através da análise do erro, que consiste em realizar a subtração entre o valor calculado numericamente e o valor calculado pelo código para cada valor de n, tirando o módulo desse resultado posteriormente.\n",
        "##### No caso do Exemplo 3.2, temos:\n",
        "#####n = 2: |E| = 0.03334538746239141-0.033305566 = 3.982146239140533e-05\n",
        "#####n = 6: |E| = 0.03330556611623718-0.033305566 = 1.162371796037398e-10\n",
        "#####n = 8: |E| = 0.03330556611623207-0.033305566 = 1.1623206563893262e-10\n",
        "#####n = 10: |E| = 0.033305566116232074-0.033305566 = 1.1623207257782653e-10\n",
        "##### Portanto, analisados os erros e sua respectiva ordem de grandeza, o cálculo se mostrou eficaz para a resolução dessa integral."
      ],
      "metadata": {
        "id": "MZHvVtsPD0nR"
      }
    },
    {
      "cell_type": "markdown",
      "source": [
        "#### Enunciado Exemplo 4:\n",
        "#####Considere uma região fechada R do plano xy e seja γ uma reta no mesmo plano que não intercepta o interior de R. O volume V do sólido de revolução obtido da rotação da região R em torno de γ é igual a:\n",
        "$$\n",
        "V = 2π \\int \\int_R d_γ(x, y) \\,\\, dxdy\n",
        "$$\n",
        "#####onde dγ(x, y) é a distância do ponto (x, y) à reta γ. Use esta expressão para calcular o volume da calota esférica de altura 1/4 da esfera de raio 1, e o volume do sólido de revolução obtido da rotação da região, em torno do eixo y, delimitada por \n",
        "$$x = 0, \\,\\, x = e^{\\frac{-y}{2}}$$\n",
        "$$y = −1 \\,\\, e \\,\\, y = 1.$$"
      ],
      "metadata": {
        "id": "frFKOC1RAz10"
      }
    },
    {
      "cell_type": "markdown",
      "source": [
        "####Resolução Exemplo 4.1\n",
        "##### A resolução numérica do exemplo 4.1 consiste do desenvolvimento da seguinte integral:\n",
        "$$\n",
        "2*\\pi* \\int_{0}^{\\sqrt{0.4375}}\\int_{0.75}^{\\sqrt{1-y^2}} y \\,dx dy = 2*\\pi *\\int_{0}^{\\sqrt{0.4375}}xy|^{\\sqrt{1-y^2}}_{0.75} \\, dy = \n",
        "$$\n",
        "$$\n",
        "2*\\pi* \\int_{0}^{\\sqrt{0.4375}}(y*\\sqrt{1-y^2}-y*0.75) \\, dy = \n",
        "$$\n",
        "$$\n",
        "2*\\pi*(-\\frac{1}{3}(1-y^2)^{\\frac{3}{2}}-0.375y^2)|^{\\sqrt{0.4375}}_0 \n",
        "$$\n",
        "$$= 0.1799661351608913\n",
        "$$\n",
        "##### Resolvendo o Exemplo 4.1 pela Quadratura de Gauss aplicada computacionalmente temos que:"
      ],
      "metadata": {
        "id": "1jcaR0lPrfg3"
      }
    },
    {
      "cell_type": "code",
      "source": [
        "# Exemplo 4.1\n",
        "n = [2,6,8,10]\n",
        "a=0\n",
        "b=(0.4375)**(1/2)\n",
        "c = lambda x : 0.75 \n",
        "d = lambda x: (1-x**2)**(1/2) \n",
        "f = lambda x,y: 2*x*np.pi\n",
        "\n",
        "for i in range(len(n)):\n",
        "  print(n[i], ' nós: ',integratedb_gaussian(n[i],f,c,d,a,b))\n",
        "\n",
        "print('Resultado exato:',2*0.0286425*np.pi)"
      ],
      "metadata": {
        "colab": {
          "base_uri": "https://localhost:8080/"
        },
        "id": "OOpcXTF39GSy",
        "outputId": "1d58a4ca-45b9-4b5b-d8f2-d3d907772900"
      },
      "execution_count": null,
      "outputs": [
        {
          "output_type": "stream",
          "name": "stdout",
          "text": [
            "2  nós:  0.18158007546387733\n",
            "6  nós:  0.1799870849029784\n",
            "8  nós:  0.17998707912971604\n",
            "10  nós:  0.17998707911197634\n",
            "Resultado exato: 0.1799661351608913\n"
          ]
        }
      ]
    },
    {
      "cell_type": "markdown",
      "source": [
        "##### Para a análise da eficácia desse exemplo, podemos realizar a comparação entre o valor obtido pelo cálculo numérico e o valor obtido pelo cálculo computacional, para efeitos de metodologia essa comparação será feita através da análise do erro, que consiste em realizar a subtração entre o valor calculado numericamente e o valor calculado pelo código para cada valor de n, tirando o módulo desse resultado posteriormente.\n",
        "##### No caso do Exemplo 4.1, temos:\n",
        "#####n = 2: |E| = 0.18158007546387733-0.1799661351608913 = 0.0016139403029860333\n",
        "#####n = 6: |E| = 0.1799870849029784-0.1799661351608913 = 2.0949742087106316e-05\n",
        "#####n = 8: |E| = 0.17998707912971604-0.1799661351608913 = 2.0943968824738146e-05\n",
        "#####n = 10: |E| = 0.17998707911197634-0.1799661351608913 = 2.0943951085039547e-05\n",
        "##### Portanto, analisados os erros e sua respectiva ordem de grandeza, o cálculo se mostrou eficaz para a resolução dessa integral, utilizando-se 6, 8 ou 10 nós para se obter um erro inferior a 10e-5."
      ],
      "metadata": {
        "id": "6ysOkvduEx--"
      }
    },
    {
      "cell_type": "markdown",
      "source": [
        "####Resolução Exemplo 4.2\n",
        "##### A resolução numérica do exemplo 4.2 consiste do desenvolvimento da seguinte integral:\n",
        "$$\n",
        "2*\\pi \\int_{-1}^{1}\\int_{0}^{e^{-y^2}} 1 \\,dy dx = 2*\\pi \\int_{-1}^{1} x|^{e^{-y^2}}_0 \\, dy = 2*\\pi \\int_{-1}^{1} e^{-y^2} \\, dy = \n",
        "$$\n",
        "$$\n",
        "2*\\pi* (\\frac{\\sqrt{\\pi}}{2}*erf(x))|^1_0 = 9.384816902215718\n",
        "$$\n",
        "##### Resolvendo o Exemplo 4.2 pela Quadratura de Gauss aplicada computacionalmente temos que:"
      ],
      "metadata": {
        "id": "kWBSvGb6r2Gg"
      }
    },
    {
      "cell_type": "code",
      "source": [
        "# Exemplo 4.2\n",
        "n = [2,6,8,10]\n",
        "a=-1\n",
        "b=1\n",
        "c = lambda x : 0 \n",
        "d = lambda x: np.exp(-x**2)\n",
        "f = lambda x,y: 2*np.pi\n",
        "\n",
        "for i in range(len(n)):\n",
        "  print(n[i], ' nós: ',integratedb_gaussian(n[i],f,c,d,a,b))\n",
        "\n",
        "print('Resultado exato:',2*1.49364*np.pi)"
      ],
      "metadata": {
        "colab": {
          "base_uri": "https://localhost:8080/"
        },
        "id": "KI9Usz8P9H5f",
        "outputId": "24adc906-97c2-4e14-f1de-eda585cf9176"
      },
      "execution_count": null,
      "outputs": [
        {
          "output_type": "stream",
          "name": "stdout",
          "text": [
            "2  nós:  9.00419800546273\n",
            "6  nós:  9.384864743334926\n",
            "8  nós:  9.384868832107767\n",
            "10  nós:  9.38486883666519\n",
            "Resultado exato: 9.384816902215718\n"
          ]
        }
      ]
    },
    {
      "cell_type": "markdown",
      "source": [
        "##### Para a análise da eficácia desse exemplo, podemos realizar a comparação entre o valor obtido pelo cálculo numérico e o valor obtido pelo cálculo computacional, para efeitos de metodologia essa comparação será feita através da análise do erro, que consiste em realizar a subtração entre o valor calculado numericamente e o valor calculado pelo código para cada valor de n, tirando o módulo desse resultado posteriormente.\n",
        "##### No caso do Exemplo 3.2, temos:\n",
        "#####n = 2: |E| = 9.00419800546273-9.384816902215718 = 0.38061889675298843\n",
        "#####n = 6: |E| = 9.384864743334926-9.384816902215718 = 4.784111920841383e-05\n",
        "#####n = 8: |E| = 9.384868832107767-9.384816902215718 = 5.1929892048718784e-05\n",
        "#####n = 10: |E| = 9.38486883666519-9.384816902215718 = 5.1934449471602306e-05\n",
        "##### Portanto, analisados os erros e sua respectiva ordem de grandeza, o cálculo se mostrou eficaz para a resolução dessa integral, utilizando-se 6, 8 ou 10 nós para se obter um erro inferior a 10e-5."
      ],
      "metadata": {
        "id": "RUoh4DCyFiem"
      }
    },
    {
      "cell_type": "markdown",
      "source": [
        "###Conclusão\n",
        "\n",
        "Com base em todo o desenvolvimento realizado até o momento, que abrange os itens teóricos (no caso das demonstrações) e os itens práticos (desenvolvimento do código propriamente dito), foi possível constatar que a realização dos cálculos de integrais estão atendendo ao que foi proposto na tarefa sugerida. Como embasamento para tal constatação foram analisados os resultados obtidos após a aplicação dos exemplos no código desenvolvido, que convergem para o valor esperado, valor este que por sua vez foi obtido de maneira independente, através de cálculos numéricos das integrais, apenas para efeitos de comparação e análise da eficácia do código.\n",
        "\n",
        "Assegurada a eficácia de resolução dos problemas, partimos para a análise da eficiência geral dos códigos, onde a busca foi pela menor utilização possível de laços que viessem a consumir muita memória. Para que esse objetivo fosse concluído com sucesso, o código passou por diversas versões, sendo essa última (a apresentada nesse relatório) a mais eficiente, com uma complexidade linear (O(n)).\n",
        "\n",
        "Com isso, podemos concluir que este exercício-programa apresenta uma desenvoltura eficiente e eficaz, além de atender a resolução dos exemplos solicitados previamente pela tarefa aqui desenvolvida."
      ],
      "metadata": {
        "id": "dgAh7uuq2cZn"
      }
    }
  ]
}